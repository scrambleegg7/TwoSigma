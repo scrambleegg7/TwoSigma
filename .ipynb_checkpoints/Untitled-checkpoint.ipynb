{
 "cells": [
  {
   "cell_type": "code",
   "execution_count": 42,
   "metadata": {
    "collapsed": true
   },
   "outputs": [],
   "source": [
    "%matplotlib inline\n",
    "import numpy as np\n",
    "import pandas as pd\n",
    "\n",
    "import statsmodels.api as sm\n",
    "from scipy import stats\n",
    "import statsmodels.formula.api as smf\n",
    "\n",
    "import matplotlib.pyplot as plt\n",
    "\n",
    "from statsmodels.sandbox.regression.predstd import wls_prediction_std\n",
    "from statsmodels.iolib.table import (SimpleTable, default_txt_fmt)\n",
    "\n",
    "import sklearn.decomposition as decomp\n",
    "\n",
    "import seaborn as sns\n",
    "\n",
    "np.random.seed(1024)"
   ]
  },
  {
   "cell_type": "code",
   "execution_count": 2,
   "metadata": {
    "collapsed": false
   },
   "outputs": [
    {
     "name": "stdout",
     "output_type": "stream",
     "text": [
      "half size of length of timestanp  906\n",
      "timesplid : 906\n"
     ]
    }
   ],
   "source": [
    "datafile = \"/home/hideaki/SynologyNFS/myProgram/pythonProj/KaggleData/TwoSigma/train.h5\"\n",
    "#datafile = \"/Users/donchan/Documents/myData/KaggleData/TwoSigma/train.h5\"\n",
    "\n",
    "hfdata = pd.HDFStore(datafile,\"r\")\n",
    "train = hfdata.get(\"train\")\n",
    "uniq_timestamp = train[\"timestamp\"].unique()\n",
    "uniq_id = train[\"id\"].unique()\n",
    "\n",
    "i = len(uniq_timestamp) / 2\n",
    "\n",
    "print(\"half size of length of timestanp  %d\" %   i)\n",
    "\n",
    "timesplit = uniq_timestamp[i]\n",
    "\n",
    "print(\"timesplid : %d\" % timesplit  )"
   ]
  },
  {
   "cell_type": "code",
   "execution_count": 3,
   "metadata": {
    "collapsed": false
   },
   "outputs": [
    {
     "name": "stdout",
     "output_type": "stream",
     "text": [
      "(806298, 904458, 906)\n"
     ]
    }
   ],
   "source": [
    "df_train = train[train.timestamp < timesplit]\n",
    "df_test = train[train.timestamp >= timesplit]\n",
    "print( len(df_train), len(df_test),timesplit)"
   ]
  },
  {
   "cell_type": "code",
   "execution_count": 4,
   "metadata": {
    "collapsed": false
   },
   "outputs": [
    {
     "name": "stdout",
     "output_type": "stream",
     "text": [
      " subset shape (968, 111)\n"
     ]
    }
   ],
   "source": [
    "subset = df_test[df_test.timestamp == timesplit]\n",
    "print(\" subset shape %s\"  %   (subset.shape,) )"
   ]
  },
  {
   "cell_type": "code",
   "execution_count": 5,
   "metadata": {
    "collapsed": false
   },
   "outputs": [
    {
     "name": "stdout",
     "output_type": "stream",
     "text": [
      "0\n"
     ]
    }
   ],
   "source": [
    "subset_topid = subset[\"id\"].unique()[0]\n",
    "print(subset_topid)"
   ]
  },
  {
   "cell_type": "code",
   "execution_count": 6,
   "metadata": {
    "collapsed": true
   },
   "outputs": [],
   "source": [
    "df_tmp  = df_train[df_train.id == subset_topid]"
   ]
  },
  {
   "cell_type": "code",
   "execution_count": 50,
   "metadata": {
    "collapsed": false
   },
   "outputs": [
    {
     "name": "stdout",
     "output_type": "stream",
     "text": [
      "(739, 111)\n"
     ]
    }
   ],
   "source": [
    "h, w  = df_tmp.shape\n",
    "print(h,w)\n",
    "y = df_tmp[\"y\"].values"
   ]
  },
  {
   "cell_type": "code",
   "execution_count": 36,
   "metadata": {
    "collapsed": false
   },
   "outputs": [
    {
     "data": {
      "text/plain": [
       "(739, 108)"
      ]
     },
     "execution_count": 36,
     "metadata": {},
     "output_type": "execute_result"
    }
   ],
   "source": [
    "X = np.array(df_tmp)\n",
    "X = X[:,2:110]\n",
    "X.shape\n",
    "y = np.cumsum(y)"
   ]
  },
  {
   "cell_type": "code",
   "execution_count": 47,
   "metadata": {
    "collapsed": true
   },
   "outputs": [],
   "source": [
    "def dataPCA(data,n_comp=5):\n",
    "\n",
    "    #\n",
    "    # set ZERO for NaN\n",
    "    #\n",
    "    data[ np.isnan(data)   ] = .0\n",
    "    #\n",
    "    # normalize\n",
    "    #\n",
    "    mu = np.mean(data,axis=0)\n",
    "    sigma = np.std(data)\n",
    "    data = (data - mu) / sigma\n",
    "\n",
    "    pca = decomp.PCA(n_components = n_comp)\n",
    "    pca.fit(data)\n",
    "    transformed = pca.transform(data)\n",
    "    E = pca.explained_variance_ratio_\n",
    "    print E\n",
    "    print np.cumsum(E)[::-1]\n",
    "    #print transformed.shape\n",
    "\n",
    "    m = data.shape[0]\n",
    "    X = np.hstack( ( np.ones((m, 1)), transformed ) )\n",
    "    #print X.shape\n",
    "    return X\n",
    "\n",
    "\n",
    "def computeCost(X, y, theta):\n",
    "    m = len(y)\n",
    "    tmp = np.dot(X, theta) - y\n",
    "    J = 1.0 / (2 * m) * np.dot(tmp.T, tmp)\n",
    "    return J\n",
    "\n",
    "def gradientDescent(X, y, theta, alpha, iterations):\n",
    "    m = len(y)\n",
    "    J_history = []\n",
    "    for iter in range(iterations):\n",
    "        theta = theta - alpha * (1.0 / m) * np.dot(X.T, np.dot(X, theta) - y)\n",
    "        J_history.append(computeCost(X, y, theta))\n",
    "    return theta, J_history"
   ]
  },
  {
   "cell_type": "code",
   "execution_count": 46,
   "metadata": {
    "collapsed": false
   },
   "outputs": [
    {
     "name": "stdout",
     "output_type": "stream",
     "text": [
      "[ 0.30250961  0.21145867  0.11834501  0.08800545  0.05239963]\n",
      "[ 0.77271837  0.72031873  0.63231331  0.51396829  0.30250961]\n"
     ]
    },
    {
     "data": {
      "text/plain": [
       "(739, 6)"
      ]
     },
     "execution_count": 46,
     "metadata": {},
     "output_type": "execute_result"
    }
   ],
   "source": [
    "X_pca = dataPCA(X)\n",
    "X_pca.shape"
   ]
  },
  {
   "cell_type": "code",
   "execution_count": 41,
   "metadata": {
    "collapsed": false
   },
   "outputs": [
    {
     "data": {
      "image/png": "[encoded data removed]",
      "text/plain": [
       "<matplotlib.figure.Figure at 0x7fae7fa30490>"
      ]
     },
     "metadata": {},
     "output_type": "display_data"
    },
    {
     "data": {
      "text/plain": [
       "(array([ 16.,   6.,   6.,   5.,  15.,  15.,   3.,   9.,   6.,   6.,  25.,\n",
       "          8.,  10.,   7.,  36.,  13.,   8.,   6.,  10.,  34.,  23.,  11.,\n",
       "         10.,   9.,   6.,   6.,   8.,   8.,   5.,  15.,  17.,  17.,  16.,\n",
       "          1.,  10.,   9.,   9.,  11.,   9.,  13.,   8.,   7.,   6.,   9.,\n",
       "          6.,   7.,  10.,  11.,   7.,   9.,   8.,   3.,   3.,   3.,   5.,\n",
       "          3.,   2.,   4.,   4.,   7.,  11.,   7.,   8.,   4.,   2.,   1.,\n",
       "         11.,   5.,   4.,   4.,   3.,   5.,   2.,   4.,   3.,   4.,   7.,\n",
       "          4.,   4.,   4.,   1.,   3.,   2.,   1.,   1.,   3.,   1.,   2.,\n",
       "          1.,   2.,   2.,   2.,   2.,   1.,   3.,   2.,   4.,   5.,  18.,\n",
       "          7.]), array([ -6.32294941,  -6.15376551,  -5.9845816 ,  -5.8153977 ,\n",
       "         -5.6462138 ,  -5.4770299 ,  -5.30784599,  -5.13866209,\n",
       "         -4.96947819,  -4.80029428,  -4.63111038,  -4.46192648,\n",
       "         -4.29274258,  -4.12355867,  -3.95437477,  -3.78519087,\n",
       "         -3.61600697,  -3.44682306,  -3.27763916,  -3.10845526,\n",
       "         -2.93927135,  -2.77008745,  -2.60090355,  -2.43171965,\n",
       "         -2.26253574,  -2.09335184,  -1.92416794,  -1.75498404,\n",
       "         -1.58580013,  -1.41661623,  -1.24743233,  -1.07824842,\n",
       "         -0.90906452,  -0.73988062,  -0.57069672,  -0.40151281,\n",
       "         -0.23232891,  -0.06314501,   0.10603889,   0.2752228 ,\n",
       "          0.4444067 ,   0.6135906 ,   0.78277451,   0.95195841,\n",
       "          1.12114231,   1.29032621,   1.45951012,   1.62869402,\n",
       "          1.79787792,   1.96706182,   2.13624573,   2.30542963,\n",
       "          2.47461353,   2.64379744,   2.81298134,   2.98216524,\n",
       "          3.15134914,   3.32053305,   3.48971695,   3.65890085,\n",
       "          3.82808475,   3.99726866,   4.16645256,   4.33563646,\n",
       "          4.50482037,   4.67400427,   4.84318817,   5.01237207,\n",
       "          5.18155598,   5.35073988,   5.51992378,   5.68910769,\n",
       "          5.85829159,   6.02747549,   6.19665939,   6.3658433 ,\n",
       "          6.5350272 ,   6.7042111 ,   6.873395  ,   7.04257891,\n",
       "          7.21176281,   7.38094671,   7.55013062,   7.71931452,\n",
       "          7.88849842,   8.05768232,   8.22686623,   8.39605013,\n",
       "          8.56523403,   8.73441793,   8.90360184,   9.07278574,\n",
       "          9.24196964,   9.41115355,   9.58033745,   9.74952135,\n",
       "          9.91870525,  10.08788916,  10.25707306,  10.42625696,  10.59544086]), <a list of 100 Patch objects>)"
      ]
     },
     "execution_count": 41,
     "metadata": {},
     "output_type": "execute_result"
    },
    {
     "data": {
      "image/png": "[encoded data removed]",
      "text/plain": [
       "<matplotlib.figure.Figure at 0x7fae7f199f10>"
      ]
     },
     "metadata": {},
     "output_type": "display_data"
    }
   ],
   "source": [
    "plt.scatter(X_pca[:,1],X_pca[:,2] , c='r' )\n",
    "plt.show()\n",
    "plt.hist(X_pca[:,1],bins=100)"
   ]
  },
  {
   "cell_type": "code",
   "execution_count": 49,
   "metadata": {
    "collapsed": false
   },
   "outputs": [
    {
     "ename": "NameError",
     "evalue": "name 'y' is not defined",
     "output_type": "error",
     "traceback": [
      "\u001b[1;31m---------------------------------------------------------------------------\u001b[0m",
      "\u001b[1;31mNameError\u001b[0m                                 Traceback (most recent call last)",
      "\u001b[1;32m<ipython-input-49-09dec0994c30>\u001b[0m in \u001b[0;36m<module>\u001b[1;34m()\u001b[0m\n\u001b[0;32m      5\u001b[0m \u001b[1;33m\u001b[0m\u001b[0m\n\u001b[0;32m      6\u001b[0m \u001b[1;31m# calculate cost\u001b[0m\u001b[1;33m\u001b[0m\u001b[1;33m\u001b[0m\u001b[0m\n\u001b[1;32m----> 7\u001b[1;33m \u001b[0minitialCost\u001b[0m \u001b[1;33m=\u001b[0m \u001b[0mcomputeCost\u001b[0m\u001b[1;33m(\u001b[0m\u001b[0mX\u001b[0m\u001b[1;33m,\u001b[0m \u001b[0my\u001b[0m\u001b[1;33m,\u001b[0m \u001b[0mtheta\u001b[0m\u001b[1;33m)\u001b[0m\u001b[1;33m\u001b[0m\u001b[0m\n\u001b[0m\u001b[0;32m      8\u001b[0m \u001b[1;31m#print \"initial cost:\", initialCost\u001b[0m\u001b[1;33m\u001b[0m\u001b[1;33m\u001b[0m\u001b[0m\n\u001b[0;32m      9\u001b[0m \u001b[1;33m\u001b[0m\u001b[0m\n",
      "\u001b[1;31mNameError\u001b[0m: name 'y' is not defined"
     ]
    }
   ],
   "source": [
    "n_comp = 5\n",
    "theta = np.zeros(n_comp + 1)\n",
    "iterations = 10000\n",
    "alpha = 0.2\n",
    "\n",
    "# calculate cost\n",
    "initialCost = computeCost(X, y, theta)\n",
    "#print \"initial cost:\", initialCost\n",
    "\n",
    "# gradients descent\n",
    "theta, J_history = gradientDescent(X, y, theta, alpha, iterations)\n",
    "#print \"theta:\", theta\n",
    "#print \"final cost:\", J_history[-1]\n",
    "\n",
    "y_pred = np.dot(X, theta)\n"
   ]
  },
  {
   "cell_type": "code",
   "execution_count": null,
   "metadata": {
    "collapsed": true
   },
   "outputs": [],
   "source": []
  },
  {
   "cell_type": "code",
   "execution_count": null,
   "metadata": {
    "collapsed": true
   },
   "outputs": [],
   "source": []
  },
  {
   "cell_type": "code",
   "execution_count": null,
   "metadata": {
    "collapsed": true
   },
   "outputs": [],
   "source": []
  },
  {
   "cell_type": "code",
   "execution_count": 25,
   "metadata": {
    "collapsed": false,
    "scrolled": true
   },
   "outputs": [
    {
     "data": {
      "text/plain": [
       "(1, 111)"
      ]
     },
     "execution_count": 25,
     "metadata": {},
     "output_type": "execute_result"
    }
   ],
   "source": [
    "df_test_tmp = df_test[  (df_test.id == subset_topid) & (df_test.timestamp == timesplit)]\n",
    "df_test_tmp.shape"
   ]
  },
  {
   "cell_type": "code",
   "execution_count": 29,
   "metadata": {
    "collapsed": false
   },
   "outputs": [
    {
     "data": {
      "text/html": [
       "<div>\n",
       "<table border=\"1\" class=\"dataframe\">\n",
       "  <thead>\n",
       "    <tr style=\"text-align: right;\">\n",
       "      <th></th>\n",
       "      <th>id</th>\n",
       "      <th>y</th>\n",
       "    </tr>\n",
       "  </thead>\n",
       "  <tbody>\n",
       "    <tr>\n",
       "      <th>806298</th>\n",
       "      <td>0</td>\n",
       "      <td>0.00171</td>\n",
       "    </tr>\n",
       "  </tbody>\n",
       "</table>\n",
       "</div>"
      ],
      "text/plain": [
       "        id        y\n",
       "806298   0  0.00171"
      ]
     },
     "execution_count": 29,
     "metadata": {},
     "output_type": "execute_result"
    }
   ],
   "source": [
    "df_test_tmp[  [\"id\",\"y\"]  ]"
   ]
  },
  {
   "cell_type": "code",
   "execution_count": 31,
   "metadata": {
    "collapsed": false
   },
   "outputs": [],
   "source": [
    "from sklearn.linear_model import ElasticNet \n",
    "alpha = 0.1\n",
    "enet = ElasticNet(alpha=alpha, l1_ratio=0.7)"
   ]
  },
  {
   "cell_type": "code",
   "execution_count": 35,
   "metadata": {
    "collapsed": true
   },
   "outputs": [],
   "source": [
    "df_tmp_ycumsum = np.cumsum(df_tmp_y)"
   ]
  },
  {
   "cell_type": "code",
   "execution_count": 36,
   "metadata": {
    "collapsed": false
   },
   "outputs": [
    {
     "data": {
      "text/plain": [
       "[<matplotlib.lines.Line2D at 0x7ff90d3b9d10>]"
      ]
     },
     "execution_count": 36,
     "metadata": {},
     "output_type": "execute_result"
    },
    {
     "data": {
      "image/png": "[encoded data removed]",
      "text/plain": [
       "<matplotlib.figure.Figure at 0x7ff93c5892d0>"
      ]
     },
     "metadata": {},
     "output_type": "display_data"
    }
   ],
   "source": [
    "plt.plot(range(h),df_tmp_ycumsum,\"x\")"
   ]
  },
  {
   "cell_type": "code",
   "execution_count": 38,
   "metadata": {
    "collapsed": false
   },
   "outputs": [
    {
     "data": {
      "text/plain": [
       "ElasticNet(alpha=0.1, copy_X=True, fit_intercept=True, l1_ratio=0.7,\n",
       "      max_iter=1000, normalize=False, positive=False, precompute=False,\n",
       "      random_state=None, selection='cyclic', tol=0.0001, warm_start=False)"
      ]
     },
     "execution_count": 38,
     "metadata": {},
     "output_type": "execute_result"
    }
   ],
   "source": [
    "enet.fit(np.arange(h)[:,np.newaxis], df_tmp_ycumsum)"
   ]
  },
  {
   "cell_type": "code",
   "execution_count": 41,
   "metadata": {
    "collapsed": false
   },
   "outputs": [],
   "source": [
    "y_pred = enet.predict(np.arange( h + 1 )[:,np.newaxis] )"
   ]
  },
  {
   "cell_type": "code",
   "execution_count": 42,
   "metadata": {
    "collapsed": false
   },
   "outputs": [
    {
     "name": "stdout",
     "output_type": "stream",
     "text": [
      "0.328617675485\n"
     ]
    }
   ],
   "source": [
    "print(y_pred[-1])"
   ]
  },
  {
   "cell_type": "code",
   "execution_count": 44,
   "metadata": {
    "collapsed": false
   },
   "outputs": [
    {
     "data": {
      "text/plain": [
       "739"
      ]
     },
     "execution_count": 44,
     "metadata": {},
     "output_type": "execute_result"
    }
   ],
   "source": [
    "len(y_pred[:-1])"
   ]
  },
  {
   "cell_type": "code",
   "execution_count": 47,
   "metadata": {
    "collapsed": false
   },
   "outputs": [
    {
     "data": {
      "text/plain": [
       "[<matplotlib.lines.Line2D at 0x7ff90ab48250>]"
      ]
     },
     "execution_count": 47,
     "metadata": {},
     "output_type": "execute_result"
    },
    {
     "data": {
      "image/png": "[encoded data removed]",
      "text/plain": [
       "<matplotlib.figure.Figure at 0x7ff90d3b9d90>"
      ]
     },
     "metadata": {},
     "output_type": "display_data"
    }
   ],
   "source": [
    "plt.plot(range(h),y_pred[:-1],\"x\")"
   ]
  },
  {
   "cell_type": "code",
   "execution_count": null,
   "metadata": {
    "collapsed": true
   },
   "outputs": [],
   "source": []
  }
 ],
 "metadata": {
  "kernelspec": {
   "display_name": "Python [Root]",
   "language": "python",
   "name": "Python [Root]"
  },
  "language_info": {
   "codemirror_mode": {
    "name": "ipython",
    "version": 2
   },
   "file_extension": ".py",
   "mimetype": "text/x-python",
   "name": "python",
   "nbconvert_exporter": "python",
   "pygments_lexer": "ipython2",
   "version": "2.7.12"
  }
 },
 "nbformat": 4,
 "nbformat_minor": 0
}
