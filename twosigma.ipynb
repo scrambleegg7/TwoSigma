{
 "cells": [
  {
   "cell_type": "code",
   "execution_count": 1,
   "metadata": {
    "collapsed": true
   },
   "outputs": [],
   "source": [
    "import numpy as np\n",
    "import pandas as pd\n",
    "\n",
    "import statsmodels.api as sm\n",
    "from scipy import stats\n",
    "import statsmodels.formula.api as smf"
   ]
  },
  {
   "cell_type": "code",
   "execution_count": 2,
   "metadata": {
    "collapsed": false
   },
   "outputs": [
    {
     "name": "stdout",
     "output_type": "stream",
     "text": [
      "118728-thewallpaper.jpg\r\n",
      "35013106-11.pdf\r\n",
      "7071986D45.ebdl\r\n",
      "70DEB81D4D.ebdl\r\n",
      "991 FAULT CODES.pdf\r\n",
      "A917228599.ebdl\r\n",
      "AD0F8E4D06.ebdl\r\n",
      "ATI2015_userguide_ja-JP.pdf\r\n",
      "AXIS - P135720161207-152754-1481092074.mp4\r\n",
      "AXIS_Video_Motion_Detection_3.eap\r\n",
      "AcronisBackup_12_userguide_ja-JP.pdf\r\n",
      "Analytics.py\r\n",
      "Arbitrage.py\r\n",
      "BB309E2A3A.ebdl\r\n",
      "DL-Intro-Lee.pdf\r\n",
      "DSC_0346.png\r\n",
      "Docker.dmg\r\n",
      "ESGについて.docx\r\n",
      "GitHub Desktop 222.zip\r\n",
      "GoPro-MacInstaller-1.4.0.3411.dmg\r\n",
      "\u001b[31mIMAG1296.png\u001b[m\u001b[m\r\n",
      "IPSJ-MPS10081009.pdf\r\n",
      "Mastering-Python-for-Finance[ebooksfeed.com].pdf\r\n",
      "\u001b[34mNNData\u001b[m\u001b[m\r\n",
      "Oracle_VM_VirtualBox_Extension_Pack-5.0.16.vbox-extpack\r\n",
      "\u001b[31mPrepros-Mac-6.0.4.zip\u001b[m\u001b[m\r\n",
      "Python_for_Finance.pdf\r\n",
      "QQE.pdf\r\n",
      "Serengeti_Elefantenbulle.jpg\r\n",
      "Silverlight.dmg\r\n",
      "SourceTree_2.1.dmg\r\n",
      "SourceTree_2.4a.zip\r\n",
      "VirtualBox-5.0.14-105127-OSX-2.dmg\r\n",
      "VirtualBox-5.0.14-105127-OSX.dmg\r\n",
      "VirtualBox-5.0.16-105871-OSX.dmg\r\n",
      "asukul_23015381.txt\r\n",
      "awslinuxvirginia.pem\r\n",
      "bootstrap-3.3.7-dist.zip\r\n",
      "bootstrap-3.3.7.zip\r\n",
      "bvlc_reference_caffenet.caffemodel\r\n",
      "bvlc_reference_rcnn_ilsvrc13.caffemodel\r\n",
      "caffe-master.zip\r\n",
      "\u001b[34mcaffe_ilsvrc12\u001b[m\u001b[m\r\n",
      "caffe_ilsvrc12.tar.gz\r\n",
      "cifar10_nin.caffemodel\r\n",
      "cifar_100_train.txt\r\n",
      "cnn_age_gender_models_and_data.0.0.2.zip\r\n",
      "cuda_7.0.29_mac.pkg\r\n",
      "cuda_7.0.29_mac_network.dmg\r\n",
      "deep-learning-implementation-140826205939-phpapp02.pdf\r\n",
      "ebiBookReader (1).dmg\r\n",
      "ebiBookReader(1).dmg\r\n",
      "ebiBookReader-2.dmg\r\n",
      "ebiBookReader-3.dmg\r\n",
      "ebiBookReader.dmg\r\n",
      "\u001b[34mfinData\u001b[m\u001b[m\r\n",
      "grid_sizes.csv.zip\r\n",
      "ilsvrc2015_perclass_results.tar.gz\r\n",
      "imagenet_winter11_urls.tgz\r\n",
      "imgset_10.zip\r\n",
      "imgset_11.zip\r\n",
      "imgset_12.zip\r\n",
      "imgset_3.zip\r\n",
      "imgset_4.zip\r\n",
      "imgset_5.zip\r\n",
      "imgset_6.zip\r\n",
      "imgset_7.zip\r\n",
      "imgset_8.zip\r\n",
      "imgset_9.zip\r\n",
      "jre-8u91-macosx-x64.dmg\r\n",
      "kagglegym.py\r\n",
      "lfw-funneled.tgz\r\n",
      "mnist_parse.zip\r\n",
      "\u001b[34mmovies\u001b[m\u001b[m\r\n",
      "node-v6.9.2.pkg\r\n",
      "nsw_control.txt\r\n",
      "nsw_treated.txt\r\n",
      "\u001b[34mopencv-3.1.0\u001b[m\u001b[m\r\n",
      "opencv-3.1.0.zip\r\n",
      "sample_submission.csv.zip\r\n",
      "sixteen_band.zip.part\r\n",
      "sourcetree(1).license\r\n",
      "sourcetree.license\r\n",
      "spectrum_demo.py\r\n",
      "\u001b[34mstartbootstrap-clean-blog-gh-pages\u001b[m\u001b[m\r\n",
      "startbootstrap-clean-blog-gh-pages.zip\r\n",
      "\u001b[34mstartbootstrap-grayscale-gh-pages\u001b[m\u001b[m\r\n",
      "three_band.zip.part\r\n",
      "train.h5\r\n",
      "train.h5 2.zip\r\n",
      "train_geojson_v3.zip\r\n",
      "train_val_letter.prototxt\r\n",
      "train_wkt_v4.csv.zip\r\n",
      "\u001b[31mtwosigma.ipynb\u001b[m\u001b[m\r\n"
     ]
    }
   ],
   "source": [
    "!ls"
   ]
  },
  {
   "cell_type": "code",
   "execution_count": 3,
   "metadata": {
    "collapsed": false
   },
   "outputs": [],
   "source": [
    "#datafile = \"/home/hideaki/SynologyNFS/myProgram/pythonProj/KaggleData/TwoSigma/train.h5\"\n",
    "datafile = \"/Users/donchan/Documents/myData/KaggleData/TwoSigma/train.h5\"\n",
    "\n",
    "hfdata = pd.HDFStore(datafile,\"r\")"
   ]
  },
  {
   "cell_type": "code",
   "execution_count": 4,
   "metadata": {
    "collapsed": true
   },
   "outputs": [],
   "source": [
    "train = hfdata.get(\"train\")"
   ]
  },
  {
   "cell_type": "code",
   "execution_count": 5,
   "metadata": {
    "collapsed": false
   },
   "outputs": [
    {
     "data": {
      "text/html": [
       "<div>\n",
       "<table border=\"1\" class=\"dataframe\">\n",
       "  <thead>\n",
       "    <tr style=\"text-align: right;\">\n",
       "      <th></th>\n",
       "      <th>id</th>\n",
       "      <th>timestamp</th>\n",
       "      <th>derived_0</th>\n",
       "      <th>derived_1</th>\n",
       "      <th>derived_2</th>\n",
       "      <th>derived_3</th>\n",
       "      <th>derived_4</th>\n",
       "      <th>fundamental_0</th>\n",
       "      <th>fundamental_1</th>\n",
       "      <th>fundamental_2</th>\n",
       "      <th>...</th>\n",
       "      <th>technical_36</th>\n",
       "      <th>technical_37</th>\n",
       "      <th>technical_38</th>\n",
       "      <th>technical_39</th>\n",
       "      <th>technical_40</th>\n",
       "      <th>technical_41</th>\n",
       "      <th>technical_42</th>\n",
       "      <th>technical_43</th>\n",
       "      <th>technical_44</th>\n",
       "      <th>y</th>\n",
       "    </tr>\n",
       "  </thead>\n",
       "  <tbody>\n",
       "    <tr>\n",
       "      <th>count</th>\n",
       "      <td>1.710756e+06</td>\n",
       "      <td>1.710756e+06</td>\n",
       "      <td>1.637797e+06</td>\n",
       "      <td>1.629727e+06</td>\n",
       "      <td>1.312105e+06</td>\n",
       "      <td>1.561285e+06</td>\n",
       "      <td>1.304298e+06</td>\n",
       "      <td>1.686809e+06</td>\n",
       "      <td>1.031686e+06</td>\n",
       "      <td>1.341916e+06</td>\n",
       "      <td>...</td>\n",
       "      <td>1.708204e+06</td>\n",
       "      <td>1.691591e+06</td>\n",
       "      <td>1.691591e+06</td>\n",
       "      <td>1.690740e+06</td>\n",
       "      <td>1.708520e+06</td>\n",
       "      <td>1.666567e+06</td>\n",
       "      <td>1.690755e+06</td>\n",
       "      <td>1.706070e+06</td>\n",
       "      <td>1.473977e+06</td>\n",
       "      <td>1.710756e+06</td>\n",
       "    </tr>\n",
       "    <tr>\n",
       "      <th>mean</th>\n",
       "      <td>1.093858e+03</td>\n",
       "      <td>9.456257e+02</td>\n",
       "      <td>-4.536046e+00</td>\n",
       "      <td>7.729436e+11</td>\n",
       "      <td>-3.320328e-01</td>\n",
       "      <td>-5.046012e-01</td>\n",
       "      <td>1.801661e+01</td>\n",
       "      <td>-2.040938e-02</td>\n",
       "      <td>-5.703754e+08</td>\n",
       "      <td>-1.622954e-01</td>\n",
       "      <td>...</td>\n",
       "      <td>-8.584833e-02</td>\n",
       "      <td>-9.103397e-02</td>\n",
       "      <td>-8.156685e-02</td>\n",
       "      <td>-7.287001e-02</td>\n",
       "      <td>4.908321e-02</td>\n",
       "      <td>5.236218e-03</td>\n",
       "      <td>-1.699966e-02</td>\n",
       "      <td>-9.735299e-01</td>\n",
       "      <td>3.881475e-04</td>\n",
       "      <td>2.217509e-04</td>\n",
       "    </tr>\n",
       "    <tr>\n",
       "      <th>std</th>\n",
       "      <td>6.308563e+02</td>\n",
       "      <td>5.195685e+02</td>\n",
       "      <td>2.497382e+02</td>\n",
       "      <td>7.620606e+13</td>\n",
       "      <td>6.519810e+01</td>\n",
       "      <td>1.020749e+02</td>\n",
       "      <td>9.258360e+02</td>\n",
       "      <td>2.494859e-01</td>\n",
       "      <td>7.502322e+10</td>\n",
       "      <td>3.668150e+00</td>\n",
       "      <td>...</td>\n",
       "      <td>6.125852e-01</td>\n",
       "      <td>2.471038e-01</td>\n",
       "      <td>2.346534e-01</td>\n",
       "      <td>2.235729e-01</td>\n",
       "      <td>3.102316e-01</td>\n",
       "      <td>1.133733e-01</td>\n",
       "      <td>2.116284e-01</td>\n",
       "      <td>9.605551e-01</td>\n",
       "      <td>3.011983e-02</td>\n",
       "      <td>2.240643e-02</td>\n",
       "    </tr>\n",
       "    <tr>\n",
       "      <th>min</th>\n",
       "      <td>0.000000e+00</td>\n",
       "      <td>0.000000e+00</td>\n",
       "      <td>-2.017497e+04</td>\n",
       "      <td>-7.375435e-02</td>\n",
       "      <td>-9.848880e+03</td>\n",
       "      <td>-3.434176e+04</td>\n",
       "      <td>-8.551914e+03</td>\n",
       "      <td>-2.344957e+00</td>\n",
       "      <td>-1.043737e+13</td>\n",
       "      <td>-1.077101e+03</td>\n",
       "      <td>...</td>\n",
       "      <td>-1.687572e+00</td>\n",
       "      <td>-1.000000e+00</td>\n",
       "      <td>-1.000000e+00</td>\n",
       "      <td>-1.000000e+00</td>\n",
       "      <td>-5.250904e-01</td>\n",
       "      <td>-4.449529e-01</td>\n",
       "      <td>-1.000000e+00</td>\n",
       "      <td>-2.000000e+00</td>\n",
       "      <td>-1.265686e-01</td>\n",
       "      <td>-8.609413e-02</td>\n",
       "    </tr>\n",
       "    <tr>\n",
       "      <th>25%</th>\n",
       "      <td>5.500000e+02</td>\n",
       "      <td>5.040000e+02</td>\n",
       "      <td>-1.449710e-01</td>\n",
       "      <td>-2.956479e-02</td>\n",
       "      <td>-5.967524e-02</td>\n",
       "      <td>-1.655826e-01</td>\n",
       "      <td>-1.057050e-01</td>\n",
       "      <td>-1.996543e-01</td>\n",
       "      <td>-1.960470e-01</td>\n",
       "      <td>-2.280967e-01</td>\n",
       "      <td>...</td>\n",
       "      <td>-4.050297e-01</td>\n",
       "      <td>-4.651562e-04</td>\n",
       "      <td>-1.992532e-04</td>\n",
       "      <td>-2.203252e-05</td>\n",
       "      <td>-1.521701e-01</td>\n",
       "      <td>-7.377038e-02</td>\n",
       "      <td>-3.887695e-15</td>\n",
       "      <td>-2.000000e+00</td>\n",
       "      <td>-1.998819e-02</td>\n",
       "      <td>-9.561389e-03</td>\n",
       "    </tr>\n",
       "    <tr>\n",
       "      <th>50%</th>\n",
       "      <td>1.098000e+03</td>\n",
       "      <td>9.560000e+02</td>\n",
       "      <td>-8.368272e-04</td>\n",
       "      <td>5.523058e-03</td>\n",
       "      <td>2.109505e-02</td>\n",
       "      <td>2.475614e-03</td>\n",
       "      <td>1.175234e-02</td>\n",
       "      <td>-4.064488e-02</td>\n",
       "      <td>-7.395084e-03</td>\n",
       "      <td>-3.029069e-02</td>\n",
       "      <td>...</td>\n",
       "      <td>-8.502064e-02</td>\n",
       "      <td>-3.951567e-12</td>\n",
       "      <td>-1.418487e-13</td>\n",
       "      <td>-1.591224e-16</td>\n",
       "      <td>-1.476793e-02</td>\n",
       "      <td>9.782702e-05</td>\n",
       "      <td>0.000000e+00</td>\n",
       "      <td>-6.597540e-01</td>\n",
       "      <td>1.117279e-05</td>\n",
       "      <td>-1.570681e-04</td>\n",
       "    </tr>\n",
       "    <tr>\n",
       "      <th>75%</th>\n",
       "      <td>1.657000e+03</td>\n",
       "      <td>1.401000e+03</td>\n",
       "      <td>1.199108e-01</td>\n",
       "      <td>1.078554e-01</td>\n",
       "      <td>1.952209e-01</td>\n",
       "      <td>3.037236e-01</td>\n",
       "      <td>1.556464e-01</td>\n",
       "      <td>1.303819e-01</td>\n",
       "      <td>1.832071e-01</td>\n",
       "      <td>1.764751e-01</td>\n",
       "      <td>...</td>\n",
       "      <td>1.909600e-01</td>\n",
       "      <td>-5.219879e-40</td>\n",
       "      <td>0.000000e+00</td>\n",
       "      <td>0.000000e+00</td>\n",
       "      <td>1.772415e-01</td>\n",
       "      <td>7.855728e-02</td>\n",
       "      <td>0.000000e+00</td>\n",
       "      <td>-5.188884e-08</td>\n",
       "      <td>2.047074e-02</td>\n",
       "      <td>9.520990e-03</td>\n",
       "    </tr>\n",
       "    <tr>\n",
       "      <th>max</th>\n",
       "      <td>2.158000e+03</td>\n",
       "      <td>1.812000e+03</td>\n",
       "      <td>3.252527e+03</td>\n",
       "      <td>1.068448e+16</td>\n",
       "      <td>3.823001e+03</td>\n",
       "      <td>1.239737e+03</td>\n",
       "      <td>6.785965e+04</td>\n",
       "      <td>1.378195e+00</td>\n",
       "      <td>5.203165e+02</td>\n",
       "      <td>7.677125e+01</td>\n",
       "      <td>...</td>\n",
       "      <td>4.957758e+01</td>\n",
       "      <td>0.000000e+00</td>\n",
       "      <td>0.000000e+00</td>\n",
       "      <td>0.000000e+00</td>\n",
       "      <td>1.569265e+00</td>\n",
       "      <td>6.844833e-01</td>\n",
       "      <td>1.000000e+00</td>\n",
       "      <td>0.000000e+00</td>\n",
       "      <td>1.435858e-01</td>\n",
       "      <td>9.349781e-02</td>\n",
       "    </tr>\n",
       "  </tbody>\n",
       "</table>\n",
       "<p>8 rows × 111 columns</p>\n",
       "</div>"
      ],
      "text/plain": [
       "                 id     timestamp     derived_0     derived_1     derived_2  \\\n",
       "count  1.710756e+06  1.710756e+06  1.637797e+06  1.629727e+06  1.312105e+06   \n",
       "mean   1.093858e+03  9.456257e+02 -4.536046e+00  7.729436e+11 -3.320328e-01   \n",
       "std    6.308563e+02  5.195685e+02  2.497382e+02  7.620606e+13  6.519810e+01   \n",
       "min    0.000000e+00  0.000000e+00 -2.017497e+04 -7.375435e-02 -9.848880e+03   \n",
       "25%    5.500000e+02  5.040000e+02 -1.449710e-01 -2.956479e-02 -5.967524e-02   \n",
       "50%    1.098000e+03  9.560000e+02 -8.368272e-04  5.523058e-03  2.109505e-02   \n",
       "75%    1.657000e+03  1.401000e+03  1.199108e-01  1.078554e-01  1.952209e-01   \n",
       "max    2.158000e+03  1.812000e+03  3.252527e+03  1.068448e+16  3.823001e+03   \n",
       "\n",
       "          derived_3     derived_4  fundamental_0  fundamental_1  \\\n",
       "count  1.561285e+06  1.304298e+06   1.686809e+06   1.031686e+06   \n",
       "mean  -5.046012e-01  1.801661e+01  -2.040938e-02  -5.703754e+08   \n",
       "std    1.020749e+02  9.258360e+02   2.494859e-01   7.502322e+10   \n",
       "min   -3.434176e+04 -8.551914e+03  -2.344957e+00  -1.043737e+13   \n",
       "25%   -1.655826e-01 -1.057050e-01  -1.996543e-01  -1.960470e-01   \n",
       "50%    2.475614e-03  1.175234e-02  -4.064488e-02  -7.395084e-03   \n",
       "75%    3.037236e-01  1.556464e-01   1.303819e-01   1.832071e-01   \n",
       "max    1.239737e+03  6.785965e+04   1.378195e+00   5.203165e+02   \n",
       "\n",
       "       fundamental_2      ...       technical_36  technical_37  technical_38  \\\n",
       "count   1.341916e+06      ...       1.708204e+06  1.691591e+06  1.691591e+06   \n",
       "mean   -1.622954e-01      ...      -8.584833e-02 -9.103397e-02 -8.156685e-02   \n",
       "std     3.668150e+00      ...       6.125852e-01  2.471038e-01  2.346534e-01   \n",
       "min    -1.077101e+03      ...      -1.687572e+00 -1.000000e+00 -1.000000e+00   \n",
       "25%    -2.280967e-01      ...      -4.050297e-01 -4.651562e-04 -1.992532e-04   \n",
       "50%    -3.029069e-02      ...      -8.502064e-02 -3.951567e-12 -1.418487e-13   \n",
       "75%     1.764751e-01      ...       1.909600e-01 -5.219879e-40  0.000000e+00   \n",
       "max     7.677125e+01      ...       4.957758e+01  0.000000e+00  0.000000e+00   \n",
       "\n",
       "       technical_39  technical_40  technical_41  technical_42  technical_43  \\\n",
       "count  1.690740e+06  1.708520e+06  1.666567e+06  1.690755e+06  1.706070e+06   \n",
       "mean  -7.287001e-02  4.908321e-02  5.236218e-03 -1.699966e-02 -9.735299e-01   \n",
       "std    2.235729e-01  3.102316e-01  1.133733e-01  2.116284e-01  9.605551e-01   \n",
       "min   -1.000000e+00 -5.250904e-01 -4.449529e-01 -1.000000e+00 -2.000000e+00   \n",
       "25%   -2.203252e-05 -1.521701e-01 -7.377038e-02 -3.887695e-15 -2.000000e+00   \n",
       "50%   -1.591224e-16 -1.476793e-02  9.782702e-05  0.000000e+00 -6.597540e-01   \n",
       "75%    0.000000e+00  1.772415e-01  7.855728e-02  0.000000e+00 -5.188884e-08   \n",
       "max    0.000000e+00  1.569265e+00  6.844833e-01  1.000000e+00  0.000000e+00   \n",
       "\n",
       "       technical_44             y  \n",
       "count  1.473977e+06  1.710756e+06  \n",
       "mean   3.881475e-04  2.217509e-04  \n",
       "std    3.011983e-02  2.240643e-02  \n",
       "min   -1.265686e-01 -8.609413e-02  \n",
       "25%   -1.998819e-02 -9.561389e-03  \n",
       "50%    1.117279e-05 -1.570681e-04  \n",
       "75%    2.047074e-02  9.520990e-03  \n",
       "max    1.435858e-01  9.349781e-02  \n",
       "\n",
       "[8 rows x 111 columns]"
      ]
     },
     "execution_count": 5,
     "metadata": {},
     "output_type": "execute_result"
    }
   ],
   "source": [
    "train.describe()"
   ]
  },
  {
   "cell_type": "code",
   "execution_count": 6,
   "metadata": {
    "collapsed": true
   },
   "outputs": [],
   "source": [
    "uniq_timestamp = train[\"timestamp\"].unique()\n",
    "uniq_id = train[\"id\"].unique()"
   ]
  },
  {
   "cell_type": "code",
   "execution_count": 7,
   "metadata": {
    "collapsed": false
   },
   "outputs": [
    {
     "name": "stdout",
     "output_type": "stream",
     "text": [
      "1813 1424\n"
     ]
    }
   ],
   "source": [
    "print len(uniq_timestamp),len(uniq_id)"
   ]
  },
  {
   "cell_type": "code",
   "execution_count": 8,
   "metadata": {
    "collapsed": true
   },
   "outputs": [],
   "source": [
    "i = len(uniq_timestamp) / 2"
   ]
  },
  {
   "cell_type": "code",
   "execution_count": 9,
   "metadata": {
    "collapsed": false
   },
   "outputs": [
    {
     "data": {
      "text/plain": [
       "906"
      ]
     },
     "execution_count": 9,
     "metadata": {},
     "output_type": "execute_result"
    }
   ],
   "source": [
    "i"
   ]
  },
  {
   "cell_type": "code",
   "execution_count": 10,
   "metadata": {
    "collapsed": false
   },
   "outputs": [],
   "source": [
    "timesplit = uniq_timestamp[i]"
   ]
  },
  {
   "cell_type": "code",
   "execution_count": 11,
   "metadata": {
    "collapsed": false
   },
   "outputs": [],
   "source": [
    "df_train = train[train.timestamp < timesplit]"
   ]
  },
  {
   "cell_type": "code",
   "execution_count": 12,
   "metadata": {
    "collapsed": true
   },
   "outputs": [],
   "source": [
    "df_test = train[train.timestamp >= timesplit]"
   ]
  },
  {
   "cell_type": "code",
   "execution_count": 13,
   "metadata": {
    "collapsed": false
   },
   "outputs": [
    {
     "data": {
      "text/plain": [
       "806298"
      ]
     },
     "execution_count": 13,
     "metadata": {},
     "output_type": "execute_result"
    }
   ],
   "source": [
    "len(df_train)"
   ]
  },
  {
   "cell_type": "code",
   "execution_count": 14,
   "metadata": {
    "collapsed": true
   },
   "outputs": [],
   "source": [
    "df_train_fillmean = df_train.fillna(df_train.mean())"
   ]
  },
  {
   "cell_type": "code",
   "execution_count": 15,
   "metadata": {
    "collapsed": false
   },
   "outputs": [
    {
     "data": {
      "text/plain": [
       "count    806298.000000\n",
       "mean          0.001191\n",
       "std           0.002758\n",
       "min           0.000000\n",
       "25%           0.000000\n",
       "50%           0.000000\n",
       "75%           0.001291\n",
       "max           0.071950\n",
       "Name: technical_30, dtype: float64"
      ]
     },
     "execution_count": 15,
     "metadata": {},
     "output_type": "execute_result"
    }
   ],
   "source": [
    "df_train_fillmean[\"technical_30\"].describe()"
   ]
  },
  {
   "cell_type": "code",
   "execution_count": 18,
   "metadata": {
    "collapsed": false
   },
   "outputs": [
    {
     "data": {
      "text/plain": [
       "count    806298.000000\n",
       "mean          0.001418\n",
       "std           0.002754\n",
       "min           0.000000\n",
       "25%           0.000000\n",
       "50%           0.000000\n",
       "75%           0.002284\n",
       "max           0.067848\n",
       "Name: technical_20, dtype: float64"
      ]
     },
     "execution_count": 18,
     "metadata": {},
     "output_type": "execute_result"
    }
   ],
   "source": [
    "df_train_fillmean[\"technical_20\"].describe()"
   ]
  },
  {
   "cell_type": "code",
   "execution_count": 19,
   "metadata": {
    "collapsed": false
   },
   "outputs": [
    {
     "data": {
      "text/plain": [
       "count    806298.000000\n",
       "mean         -0.362069\n",
       "std           3.867840\n",
       "min        -750.536987\n",
       "25%          -0.362084\n",
       "50%          -0.191170\n",
       "75%           0.051368\n",
       "max         116.747810\n",
       "Name: fundamental_11, dtype: float64"
      ]
     },
     "execution_count": 19,
     "metadata": {},
     "output_type": "execute_result"
    }
   ],
   "source": [
    "df_train_fillmean[\"fundamental_11\"].describe()"
   ]
  },
  {
   "cell_type": "code",
   "execution_count": 20,
   "metadata": {
    "collapsed": true
   },
   "outputs": [],
   "source": [
    "import matplotlib.pyplot as plt "
   ]
  },
  {
   "cell_type": "code",
   "execution_count": 21,
   "metadata": {
    "collapsed": false
   },
   "outputs": [],
   "source": [
    "tech_20 = df_train_fillmean[\"technical_20\"].values  "
   ]
  },
  {
   "cell_type": "code",
   "execution_count": 22,
   "metadata": {
    "collapsed": true
   },
   "outputs": [],
   "source": [
    "tech_30 = df_train_fillmean[\"technical_30\"].values  "
   ]
  },
  {
   "cell_type": "code",
   "execution_count": 23,
   "metadata": {
    "collapsed": false
   },
   "outputs": [
    {
     "data": {
      "text/plain": [
       "{'boxes': [<matplotlib.lines.Line2D at 0x7f2e700eb450>,\n",
       "  <matplotlib.lines.Line2D at 0x7f2e7008fcd0>],\n",
       " 'caps': [<matplotlib.lines.Line2D at 0x7f2e70101390>,\n",
       "  <matplotlib.lines.Line2D at 0x7f2e701019d0>,\n",
       "  <matplotlib.lines.Line2D at 0x7f2e7009bf90>,\n",
       "  <matplotlib.lines.Line2D at 0x7f2e700a8610>],\n",
       " 'fliers': [<matplotlib.lines.Line2D at 0x7f2e7008f690>,\n",
       "  <matplotlib.lines.Line2D at 0x7f2e700b22d0>],\n",
       " 'means': [],\n",
       " 'medians': [<matplotlib.lines.Line2D at 0x7f2e7008f050>,\n",
       "  <matplotlib.lines.Line2D at 0x7f2e700a8c50>],\n",
       " 'whiskers': [<matplotlib.lines.Line2D at 0x7f2e700eb650>,\n",
       "  <matplotlib.lines.Line2D at 0x7f2e700ebd10>,\n",
       "  <matplotlib.lines.Line2D at 0x7f2e7009b310>,\n",
       "  <matplotlib.lines.Line2D at 0x7f2e7009b950>]}"
      ]
     },
     "execution_count": 23,
     "metadata": {},
     "output_type": "execute_result"
    }
   ],
   "source": [
    "plt.boxplot(   [tech_20,tech_30]   )"
   ]
  },
  {
   "cell_type": "code",
   "execution_count": 24,
   "metadata": {
    "collapsed": true
   },
   "outputs": [],
   "source": [
    "plt.show()"
   ]
  },
  {
   "cell_type": "code",
   "execution_count": 17,
   "metadata": {
    "collapsed": true
   },
   "outputs": [],
   "source": [
    "columns = ['technical_30', 'technical_20', 'fundamental_11', 'technical_19']"
   ]
  },
  {
   "cell_type": "code",
   "execution_count": 18,
   "metadata": {
    "collapsed": false
   },
   "outputs": [],
   "source": [
    "training = df_train_fillmean( [columns] )"
   ]
  },
  {
   "cell_type": "code",
   "execution_count": 35,
   "metadata": {
    "collapsed": false
   },
   "outputs": [
    {
     "data": {
      "text/html": [
       "<div>\n",
       "<table border=\"1\" class=\"dataframe\">\n",
       "  <thead>\n",
       "    <tr style=\"text-align: right;\">\n",
       "      <th></th>\n",
       "      <th>technical_30</th>\n",
       "      <th>technical_20</th>\n",
       "      <th>fundamental_11</th>\n",
       "      <th>technical_19</th>\n",
       "      <th>y</th>\n",
       "    </tr>\n",
       "  </thead>\n",
       "  <tbody>\n",
       "    <tr>\n",
       "      <th>count</th>\n",
       "      <td>806298.000000</td>\n",
       "      <td>806298.000000</td>\n",
       "      <td>806298.000000</td>\n",
       "      <td>806298.000000</td>\n",
       "      <td>806298.000000</td>\n",
       "    </tr>\n",
       "    <tr>\n",
       "      <th>mean</th>\n",
       "      <td>0.001191</td>\n",
       "      <td>0.001418</td>\n",
       "      <td>-0.362069</td>\n",
       "      <td>-0.034210</td>\n",
       "      <td>0.000256</td>\n",
       "    </tr>\n",
       "    <tr>\n",
       "      <th>std</th>\n",
       "      <td>0.002758</td>\n",
       "      <td>0.002754</td>\n",
       "      <td>3.867840</td>\n",
       "      <td>0.686418</td>\n",
       "      <td>0.021837</td>\n",
       "    </tr>\n",
       "    <tr>\n",
       "      <th>min</th>\n",
       "      <td>0.000000</td>\n",
       "      <td>0.000000</td>\n",
       "      <td>-750.536987</td>\n",
       "      <td>-3.343923</td>\n",
       "      <td>-0.086094</td>\n",
       "    </tr>\n",
       "    <tr>\n",
       "      <th>25%</th>\n",
       "      <td>0.000000</td>\n",
       "      <td>0.000000</td>\n",
       "      <td>-0.362084</td>\n",
       "      <td>-0.350313</td>\n",
       "      <td>-0.009334</td>\n",
       "    </tr>\n",
       "    <tr>\n",
       "      <th>50%</th>\n",
       "      <td>0.000000</td>\n",
       "      <td>0.000000</td>\n",
       "      <td>-0.191170</td>\n",
       "      <td>-0.016632</td>\n",
       "      <td>-0.000007</td>\n",
       "    </tr>\n",
       "    <tr>\n",
       "      <th>75%</th>\n",
       "      <td>0.001291</td>\n",
       "      <td>0.002284</td>\n",
       "      <td>0.051368</td>\n",
       "      <td>0.285590</td>\n",
       "      <td>0.009511</td>\n",
       "    </tr>\n",
       "    <tr>\n",
       "      <th>max</th>\n",
       "      <td>0.071950</td>\n",
       "      <td>0.067848</td>\n",
       "      <td>116.747810</td>\n",
       "      <td>13.466039</td>\n",
       "      <td>0.093498</td>\n",
       "    </tr>\n",
       "  </tbody>\n",
       "</table>\n",
       "</div>"
      ],
      "text/plain": [
       "        technical_30   technical_20  fundamental_11   technical_19  \\\n",
       "count  806298.000000  806298.000000   806298.000000  806298.000000   \n",
       "mean        0.001191       0.001418       -0.362069      -0.034210   \n",
       "std         0.002758       0.002754        3.867840       0.686418   \n",
       "min         0.000000       0.000000     -750.536987      -3.343923   \n",
       "25%         0.000000       0.000000       -0.362084      -0.350313   \n",
       "50%         0.000000       0.000000       -0.191170      -0.016632   \n",
       "75%         0.001291       0.002284        0.051368       0.285590   \n",
       "max         0.071950       0.067848      116.747810      13.466039   \n",
       "\n",
       "                   y  \n",
       "count  806298.000000  \n",
       "mean        0.000256  \n",
       "std         0.021837  \n",
       "min        -0.086094  \n",
       "25%        -0.009334  \n",
       "50%        -0.000007  \n",
       "75%         0.009511  \n",
       "max         0.093498  "
      ]
     },
     "execution_count": 35,
     "metadata": {},
     "output_type": "execute_result"
    }
   ],
   "source": [
    "training.loc[:,\"y\"] = df_train_fillmean.loc[:,\"y\"].values\n",
    "training.describe()"
   ]
  },
  {
   "cell_type": "code",
   "execution_count": 21,
   "metadata": {
    "collapsed": false
   },
   "outputs": [],
   "source": [
    "x = np.random.randint(0,100,(4,3))"
   ]
  },
  {
   "cell_type": "code",
   "execution_count": 22,
   "metadata": {
    "collapsed": false
   },
   "outputs": [
    {
     "data": {
      "text/plain": [
       "array([[99, 48, 99],\n",
       "       [13, 32, 25],\n",
       "       [69, 74, 54],\n",
       "       [62, 91, 43]])"
      ]
     },
     "execution_count": 22,
     "metadata": {},
     "output_type": "execute_result"
    }
   ],
   "source": [
    "x"
   ]
  },
  {
   "cell_type": "code",
   "execution_count": 62,
   "metadata": {
    "collapsed": true
   },
   "outputs": [],
   "source": [
    "w = [0.1,0.1,0.1]"
   ]
  },
  {
   "cell_type": "code",
   "execution_count": 63,
   "metadata": {
    "collapsed": false
   },
   "outputs": [
    {
     "data": {
      "text/plain": [
       "array([ 24.6,   7. ,  19.7,  19.6])"
      ]
     },
     "execution_count": 63,
     "metadata": {},
     "output_type": "execute_result"
    }
   ],
   "source": [
    "x * w\n",
    "np.sum(x*w, axis=1)"
   ]
  },
  {
   "cell_type": "code",
   "execution_count": 48,
   "metadata": {
    "collapsed": false
   },
   "outputs": [],
   "source": [
    "ols_model = 'y ~ technical_30 + technical_20 + fundamental_11 + technical_19' \n",
    "mod = smf.ols(formula=ols_model, data= training)"
   ]
  },
  {
   "cell_type": "code",
   "execution_count": 49,
   "metadata": {
    "collapsed": true
   },
   "outputs": [],
   "source": [
    "res = mod.fit()"
   ]
  },
  {
   "cell_type": "code",
   "execution_count": 50,
   "metadata": {
    "collapsed": false
   },
   "outputs": [],
   "source": [
    "_,a,b,c,d = res.params"
   ]
  },
  {
   "cell_type": "code",
   "execution_count": 51,
   "metadata": {
    "collapsed": false
   },
   "outputs": [],
   "source": [
    "X = np.array(training)[:,:4]"
   ]
  },
  {
   "cell_type": "code",
   "execution_count": 52,
   "metadata": {
    "collapsed": false
   },
   "outputs": [
    {
     "data": {
      "text/plain": [
       "(806298, 4)"
      ]
     },
     "execution_count": 52,
     "metadata": {},
     "output_type": "execute_result"
    }
   ],
   "source": [
    "X.shape"
   ]
  },
  {
   "cell_type": "code",
   "execution_count": 65,
   "metadata": {
    "collapsed": false
   },
   "outputs": [
    {
     "data": {
      "text/plain": [
       "[0.10866357363990881,\n",
       " -0.097377833742904735,\n",
       " 6.7769456353794063e-05,\n",
       " -0.00017912572193078686]"
      ]
     },
     "execution_count": 65,
     "metadata": {},
     "output_type": "execute_result"
    }
   ],
   "source": [
    "w = [a,b,c,d]\n",
    "w"
   ]
  },
  {
   "cell_type": "code",
   "execution_count": 72,
   "metadata": {
    "collapsed": false
   },
   "outputs": [],
   "source": [
    "y_hat = np.sum(X * w,axis=1)\n",
    "y_true = training[\"y\"].values"
   ]
  },
  {
   "cell_type": "code",
   "execution_count": 73,
   "metadata": {
    "collapsed": false
   },
   "outputs": [
    {
     "data": {
      "text/plain": [
       "(806298, 806298)"
      ]
     },
     "execution_count": 73,
     "metadata": {},
     "output_type": "execute_result"
    }
   ],
   "source": [
    "len(y_hat), len(training[\"y\"])\n"
   ]
  },
  {
   "cell_type": "code",
   "execution_count": 81,
   "metadata": {
    "collapsed": false
   },
   "outputs": [
    {
     "name": "stdout",
     "output_type": "stream",
     "text": [
      "[-0.01175345 -0.00124014 -0.02093954 ..., -0.01533881 -0.00490553\n",
      "  0.00153982]\n",
      "0.0205053968908\n",
      "1.0\n"
     ]
    }
   ],
   "source": [
    "from sklearn.metrics import r2_score\n",
    "def r_score(y_true, y_pred):\n",
    "    r2 = r2_score(y_true, y_pred)\n",
    "    r = np.sign(r2) * np.sqrt(np.abs(r2))\n",
    "    return max(-1, r)\n",
    "\n",
    "\n",
    "print y_true\n",
    "\n",
    "print r_score(y_true,y_hat)\n",
    "print r_score(y_true,y_true)"
   ]
  },
  {
   "cell_type": "code",
   "execution_count": 82,
   "metadata": {
    "collapsed": true
   },
   "outputs": [],
   "source": [
    "df1 = train[['timestamp', 'y']].groupby('timestamp').agg([np.mean, np.std, len]).reset_index()"
   ]
  },
  {
   "cell_type": "code",
   "execution_count": 83,
   "metadata": {
    "collapsed": false
   },
   "outputs": [
    {
     "data": {
      "text/html": [
       "<div>\n",
       "<table border=\"1\" class=\"dataframe\">\n",
       "  <thead>\n",
       "    <tr>\n",
       "      <th></th>\n",
       "      <th>timestamp</th>\n",
       "      <th colspan=\"3\" halign=\"left\">y</th>\n",
       "    </tr>\n",
       "    <tr>\n",
       "      <th></th>\n",
       "      <th></th>\n",
       "      <th>mean</th>\n",
       "      <th>std</th>\n",
       "      <th>len</th>\n",
       "    </tr>\n",
       "  </thead>\n",
       "  <tbody>\n",
       "    <tr>\n",
       "      <th>0</th>\n",
       "      <td>0</td>\n",
       "      <td>-0.001870</td>\n",
       "      <td>0.026646</td>\n",
       "      <td>750.0</td>\n",
       "    </tr>\n",
       "    <tr>\n",
       "      <th>1</th>\n",
       "      <td>1</td>\n",
       "      <td>0.000501</td>\n",
       "      <td>0.028422</td>\n",
       "      <td>750.0</td>\n",
       "    </tr>\n",
       "    <tr>\n",
       "      <th>2</th>\n",
       "      <td>2</td>\n",
       "      <td>-0.005787</td>\n",
       "      <td>0.029281</td>\n",
       "      <td>750.0</td>\n",
       "    </tr>\n",
       "    <tr>\n",
       "      <th>3</th>\n",
       "      <td>3</td>\n",
       "      <td>0.001633</td>\n",
       "      <td>0.025333</td>\n",
       "      <td>750.0</td>\n",
       "    </tr>\n",
       "    <tr>\n",
       "      <th>4</th>\n",
       "      <td>4</td>\n",
       "      <td>-0.004309</td>\n",
       "      <td>0.035929</td>\n",
       "      <td>750.0</td>\n",
       "    </tr>\n",
       "  </tbody>\n",
       "</table>\n",
       "</div>"
      ],
      "text/plain": [
       "  timestamp         y                 \n",
       "                 mean       std    len\n",
       "0         0 -0.001870  0.026646  750.0\n",
       "1         1  0.000501  0.028422  750.0\n",
       "2         2 -0.005787  0.029281  750.0\n",
       "3         3  0.001633  0.025333  750.0\n",
       "4         4 -0.004309  0.035929  750.0"
      ]
     },
     "execution_count": 83,
     "metadata": {},
     "output_type": "execute_result"
    }
   ],
   "source": [
    "df1.head()"
   ]
  },
  {
   "cell_type": "code",
   "execution_count": 85,
   "metadata": {
    "collapsed": false
   },
   "outputs": [],
   "source": [
    "cumsum_ = np.cumsum(df1[\"y\"][\"mean\"])"
   ]
  },
  {
   "cell_type": "code",
   "execution_count": 92,
   "metadata": {
    "collapsed": false
   },
   "outputs": [
    {
     "data": {
      "text/plain": [
       "[<matplotlib.lines.Line2D at 0x15ab9d650>]"
      ]
     },
     "execution_count": 92,
     "metadata": {},
     "output_type": "execute_result"
    },
    {
     "data": {
      "image/png": "[encoded data removed]",
      "text/plain": [
       "<matplotlib.figure.Figure at 0x16ee902d0>"
      ]
     },
     "metadata": {},
     "output_type": "display_data"
    }
   ],
   "source": [
    "%matplotlib inline\n",
    "import matplotlib.pyplot as plt\n",
    "\n",
    "plt.plot(range(len(cumsum_)), cumsum_,\".\"   )\n"
   ]
  },
  {
   "cell_type": "code",
   "execution_count": null,
   "metadata": {
    "collapsed": true
   },
   "outputs": [],
   "source": []
  }
 ],
 "metadata": {
  "kernelspec": {
   "display_name": "Python 2",
   "language": "python",
   "name": "python2"
  },
  "language_info": {
   "codemirror_mode": {
    "name": "ipython",
    "version": 2
   },
   "file_extension": ".py",
   "mimetype": "text/x-python",
   "name": "python",
   "nbconvert_exporter": "python",
   "pygments_lexer": "ipython2",
   "version": "2.7.11"
  }
 },
 "nbformat": 4,
 "nbformat_minor": 0
}
