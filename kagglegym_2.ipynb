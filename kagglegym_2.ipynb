{
 "cells": [
  {
   "cell_type": "code",
   "execution_count": 1,
   "metadata": {
    "collapsed": true
   },
   "outputs": [],
   "source": [
    "%matplotlib inline\n",
    "import numpy as np\n",
    "import pandas as pd\n",
    "\n",
    "import statsmodels.api as sm\n",
    "from scipy import stats\n",
    "import statsmodels.formula.api as smf\n",
    "\n",
    "import matplotlib.pyplot as plt\n",
    "\n",
    "from statsmodels.sandbox.regression.predstd import wls_prediction_std\n",
    "from statsmodels.iolib.table import (SimpleTable, default_txt_fmt)\n",
    "\n",
    "import sklearn.decomposition as decomp\n",
    "\n",
    "import seaborn as sns\n",
    "\n",
    "np.random.seed(1024)"
   ]
  },
  {
   "cell_type": "code",
   "execution_count": 2,
   "metadata": {
    "collapsed": false
   },
   "outputs": [
    {
     "name": "stdout",
     "output_type": "stream",
     "text": [
      "half size of length of timestanp  906\n",
      "timesplid : 906\n"
     ]
    }
   ],
   "source": [
    "datafile = \"/home/hideaki/SynologyNFS/myProgram/pythonProj/KaggleData/TwoSigma/train.h5\"\n",
    "#datafile = \"/Users/donchan/Documents/myData/KaggleData/TwoSigma/train.h5\"\n",
    "\n",
    "hfdata = pd.HDFStore(datafile,\"r\")\n",
    "train = hfdata.get(\"train\")\n",
    "uniq_timestamp = train[\"timestamp\"].unique()\n",
    "uniq_id = train[\"id\"].unique()\n",
    "\n",
    "i = len(uniq_timestamp) / 2\n",
    "\n",
    "print(\"half size of length of timestanp  %d\" %   i)\n",
    "\n",
    "timesplit = uniq_timestamp[i]\n",
    "\n",
    "print(\"timesplid : %d\" % timesplit  )"
   ]
  },
  {
   "cell_type": "code",
   "execution_count": 16,
   "metadata": {
    "collapsed": false
   },
   "outputs": [
    {
     "name": "stdout",
     "output_type": "stream",
     "text": [
      "(806298, 904458, 906)\n"
     ]
    }
   ],
   "source": [
    "df_train = train[train.timestamp < timesplit]\n",
    "df_test = train[train.timestamp >= timesplit]\n",
    "print( len(df_train), len(df_test),timesplit)\n",
    "d_mean= df_train.median(axis=0)"
   ]
  },
  {
   "cell_type": "code",
   "execution_count": 18,
   "metadata": {
    "collapsed": false
   },
   "outputs": [
    {
     "data": {
      "text/plain": [
       "id           1090.000000\n",
       "timestamp     478.000000\n",
       "derived_0       0.002433\n",
       "derived_1       0.007521\n",
       "derived_2       0.026020\n",
       "dtype: float32"
      ]
     },
     "execution_count": 18,
     "metadata": {},
     "output_type": "execute_result"
    }
   ],
   "source": [
    "d_mean.head()"
   ]
  },
  {
   "cell_type": "code",
   "execution_count": 4,
   "metadata": {
    "collapsed": false
   },
   "outputs": [
    {
     "name": "stdout",
     "output_type": "stream",
     "text": [
      "count    806298.000000\n",
      "mean          0.000256\n",
      "std           0.021837\n",
      "min          -0.086094\n",
      "25%          -0.009334\n",
      "50%          -0.000007\n",
      "75%           0.009511\n",
      "max           0.093498\n",
      "Name: y, dtype: float64\n"
     ]
    }
   ],
   "source": [
    "y_train = df_train['y']\n",
    "print y_train.describe()\n",
    "y_train = np.array(y_train)"
   ]
  },
  {
   "cell_type": "code",
   "execution_count": 8,
   "metadata": {
    "collapsed": false
   },
   "outputs": [],
   "source": [
    "excl = [\"id\", \"sample\", \"y\", \"timestamp\"]\n",
    "col = [c for c in df_train.columns if c not in excl]"
   ]
  },
  {
   "cell_type": "code",
   "execution_count": 10,
   "metadata": {
    "collapsed": false
   },
   "outputs": [
    {
     "data": {
      "text/plain": [
       "[u'technical_35',\n",
       " u'technical_36',\n",
       " u'technical_37',\n",
       " u'technical_38',\n",
       " u'technical_39',\n",
       " u'technical_40',\n",
       " u'technical_41',\n",
       " u'technical_42',\n",
       " u'technical_43',\n",
       " u'technical_44']"
      ]
     },
     "execution_count": 10,
     "metadata": {},
     "output_type": "execute_result"
    }
   ],
   "source": [
    "col[-10:]"
   ]
  },
  {
   "cell_type": "code",
   "execution_count": 11,
   "metadata": {
    "collapsed": true
   },
   "outputs": [],
   "source": [
    "train_select_col = df_train[col].copy()"
   ]
  },
  {
   "cell_type": "code",
   "execution_count": 19,
   "metadata": {
    "collapsed": false
   },
   "outputs": [],
   "source": [
    "n = train_select_col.isnull().sum(axis=1)\n",
    "for c in train_select_col.columns:\n",
    "    train_select_col.loc[:,c + '_nan_'] = pd.isnull(train_select_col[c])\n",
    "    d_mean.loc[c + '_nan_'] = 0\n",
    "\n"
   ]
  },
  {
   "cell_type": "code",
   "execution_count": 20,
   "metadata": {
    "collapsed": true
   },
   "outputs": [],
   "source": [
    "train_select_col.loc[:,\"znull\"] = n"
   ]
  },
  {
   "cell_type": "code",
   "execution_count": 21,
   "metadata": {
    "collapsed": false
   },
   "outputs": [
    {
     "data": {
      "text/html": [
       "<div>\n",
       "<table border=\"1\" class=\"dataframe\">\n",
       "  <thead>\n",
       "    <tr style=\"text-align: right;\">\n",
       "      <th></th>\n",
       "      <th>derived_0</th>\n",
       "      <th>derived_1</th>\n",
       "      <th>derived_2</th>\n",
       "      <th>derived_3</th>\n",
       "      <th>derived_4</th>\n",
       "      <th>fundamental_0</th>\n",
       "      <th>fundamental_1</th>\n",
       "      <th>fundamental_2</th>\n",
       "      <th>fundamental_3</th>\n",
       "      <th>fundamental_5</th>\n",
       "      <th>...</th>\n",
       "      <th>technical_37_nan_</th>\n",
       "      <th>technical_38_nan_</th>\n",
       "      <th>technical_39_nan_</th>\n",
       "      <th>technical_40_nan_</th>\n",
       "      <th>technical_41_nan_</th>\n",
       "      <th>technical_42_nan_</th>\n",
       "      <th>technical_43_nan_</th>\n",
       "      <th>technical_44_nan_</th>\n",
       "      <th>znull_nan_</th>\n",
       "      <th>derived_0_nan__nan_</th>\n",
       "    </tr>\n",
       "  </thead>\n",
       "  <tbody>\n",
       "    <tr>\n",
       "      <th>0</th>\n",
       "      <td>0.370326</td>\n",
       "      <td>-0.006316</td>\n",
       "      <td>0.222831</td>\n",
       "      <td>-0.213030</td>\n",
       "      <td>0.729277</td>\n",
       "      <td>-0.335633</td>\n",
       "      <td>0.113292</td>\n",
       "      <td>1.621238</td>\n",
       "      <td>-0.179404</td>\n",
       "      <td>NaN</td>\n",
       "      <td>...</td>\n",
       "      <td>True</td>\n",
       "      <td>True</td>\n",
       "      <td>True</td>\n",
       "      <td>False</td>\n",
       "      <td>True</td>\n",
       "      <td>True</td>\n",
       "      <td>False</td>\n",
       "      <td>True</td>\n",
       "      <td>False</td>\n",
       "      <td>False</td>\n",
       "    </tr>\n",
       "    <tr>\n",
       "      <th>1</th>\n",
       "      <td>0.014765</td>\n",
       "      <td>-0.038064</td>\n",
       "      <td>-0.017425</td>\n",
       "      <td>0.320652</td>\n",
       "      <td>-0.034134</td>\n",
       "      <td>0.004413</td>\n",
       "      <td>0.114285</td>\n",
       "      <td>-0.210185</td>\n",
       "      <td>0.216281</td>\n",
       "      <td>0.09675</td>\n",
       "      <td>...</td>\n",
       "      <td>True</td>\n",
       "      <td>True</td>\n",
       "      <td>True</td>\n",
       "      <td>False</td>\n",
       "      <td>True</td>\n",
       "      <td>True</td>\n",
       "      <td>False</td>\n",
       "      <td>True</td>\n",
       "      <td>False</td>\n",
       "      <td>False</td>\n",
       "    </tr>\n",
       "    <tr>\n",
       "      <th>2</th>\n",
       "      <td>-0.010622</td>\n",
       "      <td>-0.050577</td>\n",
       "      <td>3.379575</td>\n",
       "      <td>-0.157525</td>\n",
       "      <td>-0.068550</td>\n",
       "      <td>-0.155937</td>\n",
       "      <td>1.219439</td>\n",
       "      <td>-0.764516</td>\n",
       "      <td>NaN</td>\n",
       "      <td>NaN</td>\n",
       "      <td>...</td>\n",
       "      <td>True</td>\n",
       "      <td>True</td>\n",
       "      <td>True</td>\n",
       "      <td>False</td>\n",
       "      <td>True</td>\n",
       "      <td>True</td>\n",
       "      <td>False</td>\n",
       "      <td>True</td>\n",
       "      <td>False</td>\n",
       "      <td>False</td>\n",
       "    </tr>\n",
       "    <tr>\n",
       "      <th>3</th>\n",
       "      <td>NaN</td>\n",
       "      <td>NaN</td>\n",
       "      <td>NaN</td>\n",
       "      <td>NaN</td>\n",
       "      <td>NaN</td>\n",
       "      <td>0.178495</td>\n",
       "      <td>NaN</td>\n",
       "      <td>-0.007262</td>\n",
       "      <td>-0.097903</td>\n",
       "      <td>NaN</td>\n",
       "      <td>...</td>\n",
       "      <td>True</td>\n",
       "      <td>True</td>\n",
       "      <td>True</td>\n",
       "      <td>False</td>\n",
       "      <td>True</td>\n",
       "      <td>True</td>\n",
       "      <td>False</td>\n",
       "      <td>True</td>\n",
       "      <td>False</td>\n",
       "      <td>False</td>\n",
       "    </tr>\n",
       "    <tr>\n",
       "      <th>4</th>\n",
       "      <td>0.176693</td>\n",
       "      <td>-0.025284</td>\n",
       "      <td>-0.057680</td>\n",
       "      <td>0.015100</td>\n",
       "      <td>0.180894</td>\n",
       "      <td>0.139445</td>\n",
       "      <td>-0.125687</td>\n",
       "      <td>-0.018707</td>\n",
       "      <td>0.196391</td>\n",
       "      <td>NaN</td>\n",
       "      <td>...</td>\n",
       "      <td>True</td>\n",
       "      <td>True</td>\n",
       "      <td>True</td>\n",
       "      <td>False</td>\n",
       "      <td>True</td>\n",
       "      <td>True</td>\n",
       "      <td>False</td>\n",
       "      <td>True</td>\n",
       "      <td>False</td>\n",
       "      <td>False</td>\n",
       "    </tr>\n",
       "  </tbody>\n",
       "</table>\n",
       "<p>5 rows × 219 columns</p>\n",
       "</div>"
      ],
      "text/plain": [
       "   derived_0  derived_1  derived_2  derived_3  derived_4  fundamental_0  \\\n",
       "0   0.370326  -0.006316   0.222831  -0.213030   0.729277      -0.335633   \n",
       "1   0.014765  -0.038064  -0.017425   0.320652  -0.034134       0.004413   \n",
       "2  -0.010622  -0.050577   3.379575  -0.157525  -0.068550      -0.155937   \n",
       "3        NaN        NaN        NaN        NaN        NaN       0.178495   \n",
       "4   0.176693  -0.025284  -0.057680   0.015100   0.180894       0.139445   \n",
       "\n",
       "   fundamental_1  fundamental_2  fundamental_3  fundamental_5  \\\n",
       "0       0.113292       1.621238      -0.179404            NaN   \n",
       "1       0.114285      -0.210185       0.216281        0.09675   \n",
       "2       1.219439      -0.764516            NaN            NaN   \n",
       "3            NaN      -0.007262      -0.097903            NaN   \n",
       "4      -0.125687      -0.018707       0.196391            NaN   \n",
       "\n",
       "          ...           technical_37_nan_  technical_38_nan_  \\\n",
       "0         ...                        True               True   \n",
       "1         ...                        True               True   \n",
       "2         ...                        True               True   \n",
       "3         ...                        True               True   \n",
       "4         ...                        True               True   \n",
       "\n",
       "   technical_39_nan_  technical_40_nan_  technical_41_nan_  technical_42_nan_  \\\n",
       "0               True              False               True               True   \n",
       "1               True              False               True               True   \n",
       "2               True              False               True               True   \n",
       "3               True              False               True               True   \n",
       "4               True              False               True               True   \n",
       "\n",
       "   technical_43_nan_  technical_44_nan_  znull_nan_  derived_0_nan__nan_  \n",
       "0              False               True       False                False  \n",
       "1              False               True       False                False  \n",
       "2              False               True       False                False  \n",
       "3              False               True       False                False  \n",
       "4              False               True       False                False  \n",
       "\n",
       "[5 rows x 219 columns]"
      ]
     },
     "execution_count": 21,
     "metadata": {},
     "output_type": "execute_result"
    }
   ],
   "source": [
    "train_select_col.head()"
   ]
  },
  {
   "cell_type": "code",
   "execution_count": null,
   "metadata": {
    "collapsed": true
   },
   "outputs": [],
   "source": []
  },
  {
   "cell_type": "code",
   "execution_count": 5,
   "metadata": {
    "collapsed": false,
    "scrolled": true
   },
   "outputs": [
    {
     "data": {
      "text/plain": [
       "(array([ 4714.,    27.,    23.,    31.,    21.,    33.,    21.,    26.,\n",
       "           27.,    23.,    29.,    23.,    23.,    24.,    30.,    21.,\n",
       "           29.,    31.,    41.,    18.,    23.,    30.,    22.,    38.,\n",
       "           29.,    34.,    17.,    27.,    34.,    23.,    29.,    35.,\n",
       "           37.,    42.,    31.,    22.,    34.,    17.,    36.,    37.,\n",
       "           36.,    38.,    31.,    30.,    32.,    34.,    36.,    36.,\n",
       "           36.,    42.,    40.,    29.,    40.,    42.,    31.,    31.,\n",
       "           37.,    36.,    44.,    38.,    41.,    49.,    46.,    38.,\n",
       "           46.,    35.,    40.,    39.,    35.,    52.,    54.,    38.,\n",
       "           55.,    41.,    33.,    35.,    36.,    49.,    34.,    34.,\n",
       "           51.,    51.,    43.,    42.,    47.,    52.,    46.,    47.,\n",
       "           48.,    46.,    53.,    45.,    54.,    30.,    40.,    45.,\n",
       "           54.,    32.,    57.,    51.,    54.,    75.,    65.,    60.,\n",
       "           51.,    48.,    52.,    60.,    52.,    53.,    52.,    45.,\n",
       "           58.,    63.,    59.,    60.,    61.,    53.,    63.,    63.,\n",
       "           61.,    79.,    74.,    49.,    53.,    77.,    86.,    64.,\n",
       "           73.,    66.,    56.,    90.,    66.,    87.,    65.,    76.,\n",
       "           72.,    60.,    82.,    74.,    65.,    85.,    89.,    81.,\n",
       "           97.,    80.,    67.,    78.,    81.,    86.,    79.,    86.,\n",
       "           77.,    88.,    90.,    77.,    79.,   101.,    86.,    89.,\n",
       "           81.,    84.,    89.,    94.,    99.,    89.,    93.,    95.,\n",
       "          118.,    94.,    85.,   114.,    93.,   104.,   101.,   102.,\n",
       "          108.,   120.,   111.,   112.,   123.,   113.,   114.,   117.,\n",
       "          122.,   113.,   100.,   123.,   131.,   123.,   146.,   127.,\n",
       "          116.,   148.,   100.,   115.,   115.,   138.,   134.,   119.,\n",
       "          130.,   134.,   144.,   158.,   131.,   145.,   145.,   144.,\n",
       "          139.,   143.,   121.,   135.,   155.,   159.,   140.,   166.,\n",
       "          163.,   173.,   149.,   156.,   179.,   148.,   138.,   162.,\n",
       "          164.,   158.,   173.,   197.,   158.,   189.,   189.,   196.,\n",
       "          204.,   176.,   191.,   219.,   204.,   188.,   200.,   217.,\n",
       "          219.,   218.,   204.,   195.,   231.,   214.,   218.,   213.,\n",
       "          199.,   238.,   225.,   232.,   261.,   234.,   247.,   231.,\n",
       "          251.,   255.,   268.,   250.,   269.,   258.,   268.,   289.,\n",
       "          281.,   266.,   287.,   277.,   242.,   273.,   258.,   281.,\n",
       "          280.,   309.,   286.,   335.,   288.,   331.,   324.,   326.,\n",
       "          320.,   342.,   342.,   345.,   359.,   378.,   356.,   377.,\n",
       "          391.,   351.,   387.,   379.,   379.,   386.,   380.,   408.,\n",
       "          421.,   412.,   429.,   428.,   442.,   464.,   471.,   432.,\n",
       "          515.,   445.,   444.,   449.,   508.,   489.,   529.,   524.,\n",
       "          486.,   522.,   513.,   542.,   513.,   517.,   556.,   600.,\n",
       "          564.,   585.,   577.,   561.,   622.,   609.,   667.,   625.,\n",
       "          597.,   636.,   620.,   663.,   673.,   692.,   703.,   682.,\n",
       "          659.,   697.,   725.,   732.,   751.,   753.,   761.,   732.,\n",
       "          837.,   798.,   810.,   856.,   854.,   876.,   844.,   807.,\n",
       "          896.,   930.,   858.,   942.,   979.,  1006.,  1032.,  1002.,\n",
       "         1019.,  1007.,  1028.,   997.,  1093.,  1136.,  1149.,  1106.,\n",
       "         1189.,  1224.,  1110.,  1153.,  1204.,  1216.,  1211.,  1256.,\n",
       "         1307.,  1329.,  1358.,  1327.,  1405.,  1446.,  1459.,  1484.,\n",
       "         1451.,  1448.,  1532.,  1560.,  1588.,  1581.,  1636.,  1676.,\n",
       "         1699.,  1760.,  1716.,  1714.,  1787.,  1763.,  1845.,  1776.,\n",
       "         1849.,  1933.,  1963.,  2035.,  2050.,  2124.,  2127.,  2095.,\n",
       "         2102.,  2230.,  2218.,  2242.,  2321.,  2305.,  2364.,  2398.,\n",
       "         2384.,  2463.,  2473.,  2482.,  2599.,  2654.,  2649.,  2650.,\n",
       "         2725.,  2876.,  2778.,  2804.,  2920.,  3038.,  2976.,  3097.,\n",
       "         3029.,  3139.,  3166.,  3232.,  3268.,  3287.,  3325.,  3496.,\n",
       "         3445.,  3466.,  3582.,  3599.,  3697.,  3796.,  3643.,  3846.,\n",
       "         3808.,  3923.,  3876.,  3836.,  4006.,  3967.,  4021.,  3980.,\n",
       "         4028.,  4137.,  4051.,  4189.,  4270.,  4259.,  4250.,  4364.,\n",
       "         4324.,  4318.,  4379.,  4315.,  4406.,  4538.,  4354.,  4357.,\n",
       "         4443.,  4502.,  4519.,  4489.,  4458.,  4414.,  4492.,  4512.,\n",
       "         4472.,  4313.,  4386.,  4395.,  4450.,  4415.,  4456.,  4523.,\n",
       "         4403.,  4395.,  4291.,  4334.,  4207.,  4254.,  4166.,  4124.,\n",
       "         4236.,  4109.,  4102.,  4156.,  4143.,  4029.,  4063.,  3878.,\n",
       "         4084.,  3975.,  3855.,  3742.,  3729.,  3781.,  3656.,  3760.,\n",
       "         3613.,  3414.,  3621.,  3521.,  3487.,  3510.,  3405.,  3264.,\n",
       "         3375.,  3254.,  3204.,  3249.,  3027.,  3027.,  3148.,  2904.,\n",
       "         2999.,  2995.,  2877.,  2830.,  2802.,  2735.,  2723.,  2765.,\n",
       "         2526.,  2627.,  2610.,  2498.,  2420.,  2497.,  2491.,  2404.,\n",
       "         2403.,  2282.,  2290.,  2291.,  2270.,  2132.,  2181.,  2156.,\n",
       "         2090.,  2018.,  2082.,  2033.,  1961.,  1924.,  1891.,  1811.,\n",
       "         1794.,  1827.,  1797.,  1692.,  1672.,  1724.,  1664.,  1648.,\n",
       "         1633.,  1562.,  1510.,  1534.,  1462.,  1473.,  1450.,  1492.,\n",
       "         1445.,  1387.,  1362.,  1316.,  1293.,  1277.,  1241.,  1248.,\n",
       "         1296.,  1241.,  1232.,  1234.,  1184.,  1179.,  1099.,  1150.,\n",
       "         1150.,  1119.,  1043.,  1147.,  1046.,  1040.,  1024.,   989.,\n",
       "          956.,   999.,   971.,   957.,   952.,   946.,   879.,   876.,\n",
       "          858.,   845.,   793.,   859.,   813.,   809.,   734.,   752.,\n",
       "          773.,   771.,   727.,   706.,   709.,   711.,   695.,   732.,\n",
       "          664.,   683.,   729.,   653.,   615.,   665.,   652.,   640.,\n",
       "          609.,   583.,   597.,   590.,   600.,   612.,   564.,   552.,\n",
       "          561.,   559.,   504.,   532.,   517.,   534.,   513.,   508.,\n",
       "          489.,   473.,   466.,   486.,   486.,   413.,   455.,   431.,\n",
       "          442.,   439.,   439.,   414.,   444.,   420.,   411.,   433.,\n",
       "          396.,   383.,   375.,   388.,   346.,   382.,   351.,   354.,\n",
       "          352.,   364.,   350.,   320.,   350.,   353.,   327.,   356.,\n",
       "          323.,   301.,   302.,   325.,   305.,   275.,   311.,   292.,\n",
       "          296.,   314.,   255.,   304.,   278.,   265.,   265.,   284.,\n",
       "          273.,   271.,   277.,   264.,   247.,   257.,   272.,   237.,\n",
       "          246.,   247.,   236.,   237.,   250.,   239.,   257.,   271.,\n",
       "          216.,   224.,   240.,   224.,   208.,   225.,   191.,   224.,\n",
       "          206.,   236.,   210.,   244.,   191.,   183.,   203.,   204.,\n",
       "          174.,   179.,   184.,   175.,   182.,   188.,   179.,   191.,\n",
       "          181.,   170.,   171.,   148.,   180.,   188.,   148.,   170.,\n",
       "          167.,   157.,   163.,   155.,   152.,   142.,   121.,   152.,\n",
       "          148.,   137.,   152.,   154.,   140.,   151.,   124.,   140.,\n",
       "          151.,   129.,   117.,   131.,   145.,   140.,   124.,   141.,\n",
       "          134.,   117.,   130.,   141.,   115.,   110.,   123.,   112.,\n",
       "          115.,   121.,   138.,   119.,   111.,   115.,   114.,   114.,\n",
       "           99.,   110.,    94.,   130.,    94.,    98.,   111.,   118.,\n",
       "          100.,    98.,   105.,    93.,   103.,   107.,   100.,    95.,\n",
       "           85.,    89.,   100.,    87.,    90.,    93.,    84.,    75.,\n",
       "           74.,    67.,   106.,    90.,    94.,    72.,    89.,    86.,\n",
       "           83.,    83.,    84.,    76.,    82.,    68.,    87.,    88.,\n",
       "           77.,    80.,    51.,    73.,    83.,    69.,    91.,    70.,\n",
       "           63.,    68.,    64.,    71.,    79.,    63.,    67.,    66.,\n",
       "           59.,    71.,    70.,    58.,    61.,    53.,    64.,    65.,\n",
       "           66.,    55.,    54.,    57.,    62.,    66.,    56.,    56.,\n",
       "           58.,    50.,    54.,    61.,    52.,    49.,    60.,    64.,\n",
       "           78.,    51.,    47.,    48.,    46.,    60.,    57.,    46.,\n",
       "           51.,    61.,    62.,    48.,    54.,    49.,    56.,    52.,\n",
       "           43.,    53.,    61.,    44.,    44.,    47.,    52.,    50.,\n",
       "           52.,    44.,    51.,    44.,    39.,    51.,    36.,    40.,\n",
       "           43.,    42.,    38.,    29.,    40.,    49.,    44.,    41.,\n",
       "           41.,    33.,    21.,    46.,    31.,    34.,    35.,    38.,\n",
       "           41.,    58.,    40.,    43.,    25.,    36.,    34.,    32.,\n",
       "           53.,    39.,    41.,    35.,    32.,    26.,    40.,    37.,\n",
       "           37.,    33.,    44.,    41.,    30.,    37.,    33.,    23.,\n",
       "           39.,    21.,    31.,    34.,    33.,    25.,    26.,    32.,\n",
       "           35.,    28.,    33.,    28.,    36.,    30.,    39.,    32.,\n",
       "           23.,    27.,    27.,    31.,    27.,    25.,    32.,    22.,\n",
       "           22.,    20.,    28.,    28.,    30.,    17.,    24.,    18.,\n",
       "           27.,    19.,    31.,    25.,    26.,    17.,    27.,    25.,\n",
       "           19.,    21.,    20.,    30.,    22.,    26.,    26.,    29.,\n",
       "           24.,    15.,    23.,    22.,    22.,    24.,    21.,    15.,\n",
       "           25.,    28.,    23.,    22.,    17.,    22.,    21.,  4748.]),\n",
       " array([-0.08609413, -0.08591453, -0.08573494, ...,  0.09313862,\n",
       "         0.09331821,  0.09349781]),\n",
       " <a list of 1000 Patch objects>)"
      ]
     },
     "execution_count": 5,
     "metadata": {},
     "output_type": "execute_result"
    },
    {
     "data": {
      "image/png": "[encoded data removed]",
      "text/plain": [
       "<matplotlib.figure.Figure at 0x7fc6ef0f2fd0>"
      ]
     },
     "metadata": {},
     "output_type": "display_data"
    }
   ],
   "source": [
    "plt.hist(y_train,bins=1000)"
   ]
  },
  {
   "cell_type": "code",
   "execution_count": 4,
   "metadata": {
    "collapsed": false
   },
   "outputs": [
    {
     "name": "stdout",
     "output_type": "stream",
     "text": [
      " subset shape (968, 111)\n"
     ]
    }
   ],
   "source": [
    "subset = df_test[df_test.timestamp == timesplit]\n",
    "print(\" subset shape %s\"  %   (subset.shape,) )"
   ]
  },
  {
   "cell_type": "code",
   "execution_count": 5,
   "metadata": {
    "collapsed": false
   },
   "outputs": [
    {
     "name": "stdout",
     "output_type": "stream",
     "text": [
      "0\n"
     ]
    }
   ],
   "source": [
    "subset_topid = subset[\"id\"].unique()[0]\n",
    "print(subset_topid)"
   ]
  },
  {
   "cell_type": "code",
   "execution_count": null,
   "metadata": {
    "collapsed": true
   },
   "outputs": [],
   "source": []
  },
  {
   "cell_type": "code",
   "execution_count": 127,
   "metadata": {
    "collapsed": true
   },
   "outputs": [],
   "source": [
    "df_tmp  = df_train[df_train.id == subset_topid]\n",
    "df_test_select_one  = subset[subset.id == subset_topid]"
   ]
  },
  {
   "cell_type": "code",
   "execution_count": 128,
   "metadata": {
    "collapsed": false
   },
   "outputs": [
    {
     "data": {
      "text/html": [
       "<div>\n",
       "<table border=\"1\" class=\"dataframe\">\n",
       "  <thead>\n",
       "    <tr style=\"text-align: right;\">\n",
       "      <th></th>\n",
       "      <th>id</th>\n",
       "      <th>timestamp</th>\n",
       "      <th>derived_0</th>\n",
       "      <th>derived_1</th>\n",
       "      <th>derived_2</th>\n",
       "      <th>derived_3</th>\n",
       "      <th>derived_4</th>\n",
       "      <th>fundamental_0</th>\n",
       "      <th>fundamental_1</th>\n",
       "      <th>fundamental_2</th>\n",
       "      <th>...</th>\n",
       "      <th>technical_36</th>\n",
       "      <th>technical_37</th>\n",
       "      <th>technical_38</th>\n",
       "      <th>technical_39</th>\n",
       "      <th>technical_40</th>\n",
       "      <th>technical_41</th>\n",
       "      <th>technical_42</th>\n",
       "      <th>technical_43</th>\n",
       "      <th>technical_44</th>\n",
       "      <th>y</th>\n",
       "    </tr>\n",
       "  </thead>\n",
       "  <tbody>\n",
       "    <tr>\n",
       "      <th>806298</th>\n",
       "      <td>0</td>\n",
       "      <td>906</td>\n",
       "      <td>0.246848</td>\n",
       "      <td>0.102251</td>\n",
       "      <td>0.002781</td>\n",
       "      <td>-0.029337</td>\n",
       "      <td>0.400748</td>\n",
       "      <td>-0.273942</td>\n",
       "      <td>0.535335</td>\n",
       "      <td>0.243197</td>\n",
       "      <td>...</td>\n",
       "      <td>-0.193842</td>\n",
       "      <td>-4.642828e-10</td>\n",
       "      <td>-4.642828e-10</td>\n",
       "      <td>-4.436047e-10</td>\n",
       "      <td>-0.057845</td>\n",
       "      <td>-0.054224</td>\n",
       "      <td>0.000044</td>\n",
       "      <td>-1.999907</td>\n",
       "      <td>-0.052079</td>\n",
       "      <td>0.00171</td>\n",
       "    </tr>\n",
       "  </tbody>\n",
       "</table>\n",
       "<p>1 rows × 111 columns</p>\n",
       "</div>"
      ],
      "text/plain": [
       "        id  timestamp  derived_0  derived_1  derived_2  derived_3  derived_4  \\\n",
       "806298   0        906   0.246848   0.102251   0.002781  -0.029337   0.400748   \n",
       "\n",
       "        fundamental_0  fundamental_1  fundamental_2   ...     technical_36  \\\n",
       "806298      -0.273942       0.535335       0.243197   ...        -0.193842   \n",
       "\n",
       "        technical_37  technical_38  technical_39  technical_40  technical_41  \\\n",
       "806298 -4.642828e-10 -4.642828e-10 -4.436047e-10     -0.057845     -0.054224   \n",
       "\n",
       "        technical_42  technical_43  technical_44        y  \n",
       "806298      0.000044     -1.999907     -0.052079  0.00171  \n",
       "\n",
       "[1 rows x 111 columns]"
      ]
     },
     "execution_count": 128,
     "metadata": {},
     "output_type": "execute_result"
    }
   ],
   "source": [
    "df_test_select_one"
   ]
  },
  {
   "cell_type": "code",
   "execution_count": 50,
   "metadata": {
    "collapsed": false
   },
   "outputs": [
    {
     "name": "stdout",
     "output_type": "stream",
     "text": [
      "(739, 111)\n"
     ]
    }
   ],
   "source": [
    "h, w  = df_tmp.shape\n",
    "print(h,w)\n",
    "y = df_tmp[\"y\"].values"
   ]
  },
  {
   "cell_type": "code",
   "execution_count": 51,
   "metadata": {
    "collapsed": false
   },
   "outputs": [],
   "source": [
    "X = np.array(df_tmp)\n",
    "X = X[:,2:110]\n",
    "X.shape\n",
    "y = np.cumsum(y)"
   ]
  },
  {
   "cell_type": "code",
   "execution_count": 52,
   "metadata": {
    "collapsed": true
   },
   "outputs": [],
   "source": [
    "def dataPCA(data,n_comp=5):\n",
    "\n",
    "    #\n",
    "    # set ZERO for NaN\n",
    "    #\n",
    "    data[ np.isnan(data)   ] = .0\n",
    "    #\n",
    "    # normalize\n",
    "    #\n",
    "    mu = np.mean(data,axis=0)\n",
    "    sigma = np.std(data)\n",
    "    data = (data - mu) / sigma\n",
    "\n",
    "    pca = decomp.PCA(n_components = n_comp)\n",
    "    pca.fit(data)\n",
    "    transformed = pca.transform(data)\n",
    "    E = pca.explained_variance_ratio_\n",
    "    print E\n",
    "    print np.cumsum(E)[::-1]\n",
    "    #print transformed.shape\n",
    "\n",
    "    m = data.shape[0]\n",
    "    X = np.hstack( ( np.ones((m, 1)), transformed ) )\n",
    "    #print X.shape\n",
    "    return X\n",
    "\n",
    "\n",
    "def computeCost(X, y, theta):\n",
    "    m = len(y)\n",
    "    tmp = np.dot(X, theta) - y\n",
    "    J = 1.0 / (2 * m) * np.dot(tmp.T, tmp)\n",
    "    return J\n",
    "\n",
    "def gradientDescent(X, y, theta, alpha, iterations):\n",
    "    m = len(y)\n",
    "    J_history = []\n",
    "    for iter in range(iterations):\n",
    "        theta = theta - alpha * (1.0 / m) * np.dot(X.T, np.dot(X, theta) - y)\n",
    "        J_history.append(computeCost(X, y, theta))\n",
    "    return theta, J_history"
   ]
  },
  {
   "cell_type": "code",
   "execution_count": 54,
   "metadata": {
    "collapsed": false
   },
   "outputs": [
    {
     "name": "stdout",
     "output_type": "stream",
     "text": [
      "[ 0.30250961  0.21145867  0.11834501  0.08800545  0.05239963]\n",
      "[ 0.77271837  0.72031873  0.63231331  0.51396829  0.30250961]\n"
     ]
    },
    {
     "data": {
      "text/plain": [
       "(739, 6)"
      ]
     },
     "execution_count": 54,
     "metadata": {},
     "output_type": "execute_result"
    }
   ],
   "source": [
    "X = dataPCA(X)\n",
    "X.shape"
   ]
  },
  {
   "cell_type": "code",
   "execution_count": 41,
   "metadata": {
    "collapsed": true
   },
   "outputs": [
    {
     "data": {
      "image/png": "[encoded data removed]",
      "text/plain": [
       "<matplotlib.figure.Figure at 0x7fae7fa30490>"
      ]
     },
     "metadata": {},
     "output_type": "display_data"
    },
    {
     "data": {
      "text/plain": [
       "(array([ 16.,   6.,   6.,   5.,  15.,  15.,   3.,   9.,   6.,   6.,  25.,\n",
       "          8.,  10.,   7.,  36.,  13.,   8.,   6.,  10.,  34.,  23.,  11.,\n",
       "         10.,   9.,   6.,   6.,   8.,   8.,   5.,  15.,  17.,  17.,  16.,\n",
       "          1.,  10.,   9.,   9.,  11.,   9.,  13.,   8.,   7.,   6.,   9.,\n",
       "          6.,   7.,  10.,  11.,   7.,   9.,   8.,   3.,   3.,   3.,   5.,\n",
       "          3.,   2.,   4.,   4.,   7.,  11.,   7.,   8.,   4.,   2.,   1.,\n",
       "         11.,   5.,   4.,   4.,   3.,   5.,   2.,   4.,   3.,   4.,   7.,\n",
       "          4.,   4.,   4.,   1.,   3.,   2.,   1.,   1.,   3.,   1.,   2.,\n",
       "          1.,   2.,   2.,   2.,   2.,   1.,   3.,   2.,   4.,   5.,  18.,\n",
       "          7.]), array([ -6.32294941,  -6.15376551,  -5.9845816 ,  -5.8153977 ,\n",
       "         -5.6462138 ,  -5.4770299 ,  -5.30784599,  -5.13866209,\n",
       "         -4.96947819,  -4.80029428,  -4.63111038,  -4.46192648,\n",
       "         -4.29274258,  -4.12355867,  -3.95437477,  -3.78519087,\n",
       "         -3.61600697,  -3.44682306,  -3.27763916,  -3.10845526,\n",
       "         -2.93927135,  -2.77008745,  -2.60090355,  -2.43171965,\n",
       "         -2.26253574,  -2.09335184,  -1.92416794,  -1.75498404,\n",
       "         -1.58580013,  -1.41661623,  -1.24743233,  -1.07824842,\n",
       "         -0.90906452,  -0.73988062,  -0.57069672,  -0.40151281,\n",
       "         -0.23232891,  -0.06314501,   0.10603889,   0.2752228 ,\n",
       "          0.4444067 ,   0.6135906 ,   0.78277451,   0.95195841,\n",
       "          1.12114231,   1.29032621,   1.45951012,   1.62869402,\n",
       "          1.79787792,   1.96706182,   2.13624573,   2.30542963,\n",
       "          2.47461353,   2.64379744,   2.81298134,   2.98216524,\n",
       "          3.15134914,   3.32053305,   3.48971695,   3.65890085,\n",
       "          3.82808475,   3.99726866,   4.16645256,   4.33563646,\n",
       "          4.50482037,   4.67400427,   4.84318817,   5.01237207,\n",
       "          5.18155598,   5.35073988,   5.51992378,   5.68910769,\n",
       "          5.85829159,   6.02747549,   6.19665939,   6.3658433 ,\n",
       "          6.5350272 ,   6.7042111 ,   6.873395  ,   7.04257891,\n",
       "          7.21176281,   7.38094671,   7.55013062,   7.71931452,\n",
       "          7.88849842,   8.05768232,   8.22686623,   8.39605013,\n",
       "          8.56523403,   8.73441793,   8.90360184,   9.07278574,\n",
       "          9.24196964,   9.41115355,   9.58033745,   9.74952135,\n",
       "          9.91870525,  10.08788916,  10.25707306,  10.42625696,  10.59544086]), <a list of 100 Patch objects>)"
      ]
     },
     "execution_count": 41,
     "metadata": {},
     "output_type": "execute_result"
    },
    {
     "data": {
      "image/png": "[encoded data removed]",
      "text/plain": [
       "<matplotlib.figure.Figure at 0x7fae7f199f10>"
      ]
     },
     "metadata": {},
     "output_type": "display_data"
    }
   ],
   "source": [
    "plt.scatter(X_pca[:,1],X_pca[:,2] , c='r' )\n",
    "plt.show()\n",
    "plt.hist(X_pca[:,1],bins=100)"
   ]
  },
  {
   "cell_type": "code",
   "execution_count": 74,
   "metadata": {
    "collapsed": false
   },
   "outputs": [
    {
     "name": "stdout",
     "output_type": "stream",
     "text": [
      "final cost: 0.00275420812425\n",
      "0.00165680120844\n",
      "0.0103058898821\n"
     ]
    }
   ],
   "source": [
    "n_comp = 5\n",
    "theta = np.zeros(n_comp + 1)\n",
    "iterations = 100000\n",
    "alpha = 0.1\n",
    "\n",
    "# calculate cost\n",
    "initialCost = computeCost(X, y, theta)\n",
    "#print \"initial cost:\", initialCost\n",
    "\n",
    "# gradients descent\n",
    "theta, J_history = gradientDescent(X, y, theta, alpha, iterations)\n",
    "#print \"theta:\", theta\n",
    "print \"final cost:\", J_history[-1]\n",
    "\n",
    "y_pred = np.dot(X, theta)\n",
    "len(y_pred)\n",
    "print y_pred[-1] - y_pred[-2]\n",
    "print df_tmp[\"y\"].values.tolist()[-1]"
   ]
  },
  {
   "cell_type": "code",
   "execution_count": 70,
   "metadata": {
    "collapsed": false
   },
   "outputs": [
    {
     "data": {
      "text/plain": [
       "<matplotlib.collections.PathCollection at 0x7fae75697b50>"
      ]
     },
     "execution_count": 70,
     "metadata": {},
     "output_type": "execute_result"
    },
    {
     "data": {
      "image/png": "[encoded data removed]",
      "text/plain": [
       "<matplotlib.figure.Figure at 0x7fae76753390>"
      ]
     },
     "metadata": {},
     "output_type": "display_data"
    }
   ],
   "source": [
    "plt.scatter(range(h),y,c='r')\n",
    "plt.scatter(range(h),y_pred,c='b')"
   ]
  },
  {
   "cell_type": "code",
   "execution_count": 75,
   "metadata": {
    "collapsed": true
   },
   "outputs": [],
   "source": [
    "y_orig = df_tmp[\"y\"].values.tolist()"
   ]
  },
  {
   "cell_type": "code",
   "execution_count": 77,
   "metadata": {
    "collapsed": false
   },
   "outputs": [
    {
     "data": {
      "text/plain": [
       "<matplotlib.collections.PathCollection at 0x7fae72869b50>"
      ]
     },
     "execution_count": 77,
     "metadata": {},
     "output_type": "execute_result"
    },
    {
     "data": {
      "image/png": "[encoded data removed]",
      "text/plain": [
       "<matplotlib.figure.Figure at 0x7fae9a977910>"
      ]
     },
     "metadata": {},
     "output_type": "display_data"
    }
   ],
   "source": [
    "plt.scatter(range(h),y_orig,c='g')"
   ]
  },
  {
   "cell_type": "code",
   "execution_count": 78,
   "metadata": {
    "collapsed": false
   },
   "outputs": [
    {
     "data": {
      "text/plain": [
       "(array([  1.,   1.,   1.,   2.,   0.,   0.,   1.,   0.,   0.,   0.,   0.,\n",
       "          1.,   0.,   0.,   0.,   3.,   5.,   3.,   3.,   4.,   1.,   0.,\n",
       "          5.,   2.,   5.,   5.,   2.,   5.,  20.,  17.,  16.,  17.,  20.,\n",
       "         32.,  45.,  30.,  33.,  30.,  42.,  34.,  37.,  43.,  35.,  35.,\n",
       "         26.,  27.,  22.,  22.,  18.,  11.,  12.,  10.,   5.,  13.,   5.,\n",
       "          2.,   4.,   3.,   4.,   3.,   2.,   0.,   0.,   4.,   0.,   0.,\n",
       "          0.,   1.,   2.,   0.,   1.,   1.,   0.,   1.,   0.,   1.,   0.,\n",
       "          1.,   0.,   0.,   1.,   0.,   0.,   0.,   0.,   0.,   0.,   0.,\n",
       "          0.,   0.,   0.,   0.,   0.,   0.,   0.,   0.,   0.,   0.,   0.,\n",
       "          1.]),\n",
       " array([-0.060769  , -0.05922633, -0.05768366, -0.056141  , -0.05459833,\n",
       "        -0.05305566, -0.05151299, -0.04997032, -0.04842765, -0.04688499,\n",
       "        -0.04534232, -0.04379965, -0.04225698, -0.04071431, -0.03917165,\n",
       "        -0.03762898, -0.03608631, -0.03454364, -0.03300097, -0.03145831,\n",
       "        -0.02991564, -0.02837297, -0.0268303 , -0.02528763, -0.02374497,\n",
       "        -0.0222023 , -0.02065963, -0.01911696, -0.01757429, -0.01603163,\n",
       "        -0.01448896, -0.01294629, -0.01140362, -0.00986095, -0.00831829,\n",
       "        -0.00677562, -0.00523295, -0.00369028, -0.00214761, -0.00060495,\n",
       "         0.00093772,  0.00248039,  0.00402306,  0.00556573,  0.00710839,\n",
       "         0.00865106,  0.01019373,  0.0117364 ,  0.01327907,  0.01482174,\n",
       "         0.0163644 ,  0.01790707,  0.01944974,  0.02099241,  0.02253508,\n",
       "         0.02407774,  0.02562041,  0.02716308,  0.02870575,  0.03024842,\n",
       "         0.03179108,  0.03333375,  0.03487642,  0.03641909,  0.03796176,\n",
       "         0.03950442,  0.04104709,  0.04258976,  0.04413243,  0.0456751 ,\n",
       "         0.04721776,  0.04876043,  0.0503031 ,  0.05184577,  0.05338844,\n",
       "         0.0549311 ,  0.05647377,  0.05801644,  0.05955911,  0.06110178,\n",
       "         0.06264444,  0.06418711,  0.06572978,  0.06727245,  0.06881512,\n",
       "         0.07035778,  0.07190045,  0.07344312,  0.07498579,  0.07652846,\n",
       "         0.07807112,  0.07961379,  0.08115646,  0.08269913,  0.0842418 ,\n",
       "         0.08578447,  0.08732713,  0.0888698 ,  0.09041247,  0.09195514,\n",
       "         0.09349781]),\n",
       " <a list of 100 Patch objects>)"
      ]
     },
     "execution_count": 78,
     "metadata": {},
     "output_type": "execute_result"
    },
    {
     "data": {
      "image/png": "[encoded data removed]",
      "text/plain": [
       "<matplotlib.figure.Figure at 0x7fae728210d0>"
      ]
     },
     "metadata": {},
     "output_type": "display_data"
    }
   ],
   "source": [
    "plt.hist(y_orig,bins=100)"
   ]
  },
  {
   "cell_type": "code",
   "execution_count": 79,
   "metadata": {
    "collapsed": true
   },
   "outputs": [],
   "source": [
    "mu = np.mean(y_orig)\n",
    "std = np.std(y_orig)"
   ]
  },
  {
   "cell_type": "code",
   "execution_count": 83,
   "metadata": {
    "collapsed": false
   },
   "outputs": [
    {
     "name": "stdout",
     "output_type": "stream",
     "text": [
      "0.745524755951\n"
     ]
    }
   ],
   "source": [
    "from scipy.stats import norm\n",
    "print norm.cdf(x=y_orig[-1], loc=mu, scale=std)\n",
    "prb = norm.cdf(x=y_orig[-1], loc=mu, scale=std)"
   ]
  },
  {
   "cell_type": "code",
   "execution_count": 111,
   "metadata": {
    "collapsed": false
   },
   "outputs": [],
   "source": [
    "y_cdfs = np.array( [  norm.cdf(x=y_, loc=mu, scale=std) for y_ in y_orig ] )\n"
   ]
  },
  {
   "cell_type": "code",
   "execution_count": 113,
   "metadata": {
    "collapsed": false
   },
   "outputs": [
    {
     "data": {
      "text/plain": [
       "<matplotlib.collections.PathCollection at 0x7fae72971c50>"
      ]
     },
     "execution_count": 113,
     "metadata": {},
     "output_type": "execute_result"
    },
    {
     "data": {
      "image/png": "[encoded data removed]",
      "text/plain": [
       "<matplotlib.figure.Figure at 0x7fae729ba5d0>"
      ]
     },
     "metadata": {},
     "output_type": "display_data"
    }
   ],
   "source": [
    "plt.scatter(range(y_cdfs.shape[0]),y_cdfs,c='y')"
   ]
  },
  {
   "cell_type": "code",
   "execution_count": 114,
   "metadata": {
    "collapsed": true
   },
   "outputs": [],
   "source": [
    "m = len(y_orig)\n",
    "y_orig = np.array(y_orig)\n",
    "\n",
    "\n",
    "def sigmoid(z):\n",
    "    return 1.0 / (1 + np.exp(-z))\n",
    "\n",
    "def safe_log(x, minval=0.0000000001):\n",
    "    return np.log(x.clip(min=minval))\n",
    "\n",
    "def computeCost(X, y, theta):\n",
    "    # 二乗誤差関数ではなく、交差エントロピー誤差関数を使用\n",
    "    h = sigmoid(np.dot(X, theta))\n",
    "    J = (1.0 / m) * np.sum(-y * safe_log(h) - (1 - y) * safe_log(1 - h))\n",
    "    return J\n",
    "\n",
    "def gradientDescent(X, y, theta, alpha, iterations):\n",
    "    m = len(y)      # 訓練データ数\n",
    "    J_history = []  # 各更新でのコスト\n",
    "    for iter in range(iterations):\n",
    "        # sigmoid関数を適用する点が線形回帰と異なる\n",
    "        h = sigmoid(np.dot(X, theta))\n",
    "        theta = theta - alpha * (1.0 / m) * np.dot(X.T, h - y)\n",
    "        cost = computeCost(X, y, theta)\n",
    "        \n",
    "        J_history.append(cost)\n",
    "    return theta, J_history"
   ]
  },
  {
   "cell_type": "code",
   "execution_count": 123,
   "metadata": {
    "collapsed": false
   },
   "outputs": [
    {
     "name": "stdout",
     "output_type": "stream",
     "text": [
      "initial cost: 0.69314718056\n",
      "theta: [-0.00647735 -0.00651028 -0.00173268  0.01214946  0.04412079 -0.03707343]\n",
      "final cost: 0.690899387474\n"
     ]
    }
   ],
   "source": [
    "theta = np.zeros(6)\n",
    "iterations = 30000\n",
    "alpha = 0.1\n",
    "\n",
    "# 初期状態のコストを計算\n",
    "initialCost = computeCost(X, y_cdfs, theta)\n",
    "print \"initial cost:\", initialCost\n",
    "\n",
    "# 勾配降下法でパラメータ推定\n",
    "theta, J_history = gradientDescent(X, y_cdfs, theta, alpha, iterations)\n",
    "print \"theta:\", theta\n",
    "print \"final cost:\", J_history[-1]"
   ]
  },
  {
   "cell_type": "code",
   "execution_count": 120,
   "metadata": {
    "collapsed": true
   },
   "outputs": [],
   "source": [
    "h = sigmoid(np.dot(X,theta))"
   ]
  },
  {
   "cell_type": "code",
   "execution_count": 124,
   "metadata": {
    "collapsed": false
   },
   "outputs": [
    {
     "data": {
      "text/plain": [
       "<matplotlib.collections.PathCollection at 0x7fae724d5c90>"
      ]
     },
     "execution_count": 124,
     "metadata": {},
     "output_type": "execute_result"
    },
    {
     "data": {
      "image/png": "[encoded data removed]",
      "text/plain": [
       "<matplotlib.figure.Figure at 0x7fae72994490>"
      ]
     },
     "metadata": {},
     "output_type": "display_data"
    }
   ],
   "source": [
    "plt.scatter( range(len(h)), h, c='r'   )"
   ]
  },
  {
   "cell_type": "code",
   "execution_count": 85,
   "metadata": {
    "collapsed": false
   },
   "outputs": [
    {
     "name": "stdout",
     "output_type": "stream",
     "text": [
      "0.0103058898821\n",
      "0.0103058898821\n"
     ]
    }
   ],
   "source": [
    "print norm.ppf(q=prb, loc=mu, scale=std)\n",
    "print y_orig[-1]"
   ]
  },
  {
   "cell_type": "code",
   "execution_count": 25,
   "metadata": {
    "collapsed": false,
    "scrolled": true
   },
   "outputs": [
    {
     "data": {
      "text/plain": [
       "(1, 111)"
      ]
     },
     "execution_count": 25,
     "metadata": {},
     "output_type": "execute_result"
    }
   ],
   "source": [
    "df_test_tmp = df_test[  (df_test.id == subset_topid) & (df_test.timestamp == timesplit)]\n",
    "df_test_tmp.shape"
   ]
  },
  {
   "cell_type": "code",
   "execution_count": 29,
   "metadata": {
    "collapsed": false
   },
   "outputs": [
    {
     "data": {
      "text/html": [
       "<div>\n",
       "<table border=\"1\" class=\"dataframe\">\n",
       "  <thead>\n",
       "    <tr style=\"text-align: right;\">\n",
       "      <th></th>\n",
       "      <th>id</th>\n",
       "      <th>y</th>\n",
       "    </tr>\n",
       "  </thead>\n",
       "  <tbody>\n",
       "    <tr>\n",
       "      <th>806298</th>\n",
       "      <td>0</td>\n",
       "      <td>0.00171</td>\n",
       "    </tr>\n",
       "  </tbody>\n",
       "</table>\n",
       "</div>"
      ],
      "text/plain": [
       "        id        y\n",
       "806298   0  0.00171"
      ]
     },
     "execution_count": 29,
     "metadata": {},
     "output_type": "execute_result"
    }
   ],
   "source": [
    "df_test_tmp[  [\"id\",\"y\"]  ]"
   ]
  },
  {
   "cell_type": "code",
   "execution_count": 31,
   "metadata": {
    "collapsed": false
   },
   "outputs": [],
   "source": [
    "from sklearn.linear_model import ElasticNet \n",
    "alpha = 0.1\n",
    "enet = ElasticNet(alpha=alpha, l1_ratio=0.7)"
   ]
  },
  {
   "cell_type": "code",
   "execution_count": 35,
   "metadata": {
    "collapsed": true
   },
   "outputs": [],
   "source": [
    "df_tmp_ycumsum = np.cumsum(df_tmp_y)"
   ]
  },
  {
   "cell_type": "code",
   "execution_count": 36,
   "metadata": {
    "collapsed": false
   },
   "outputs": [
    {
     "data": {
      "text/plain": [
       "[<matplotlib.lines.Line2D at 0x7ff90d3b9d10>]"
      ]
     },
     "execution_count": 36,
     "metadata": {},
     "output_type": "execute_result"
    },
    {
     "data": {
      "image/png": "[encoded data removed]",
      "text/plain": [
       "<matplotlib.figure.Figure at 0x7ff93c5892d0>"
      ]
     },
     "metadata": {},
     "output_type": "display_data"
    }
   ],
   "source": [
    "plt.plot(range(h),df_tmp_ycumsum,\"x\")"
   ]
  },
  {
   "cell_type": "code",
   "execution_count": 38,
   "metadata": {
    "collapsed": false
   },
   "outputs": [
    {
     "data": {
      "text/plain": [
       "ElasticNet(alpha=0.1, copy_X=True, fit_intercept=True, l1_ratio=0.7,\n",
       "      max_iter=1000, normalize=False, positive=False, precompute=False,\n",
       "      random_state=None, selection='cyclic', tol=0.0001, warm_start=False)"
      ]
     },
     "execution_count": 38,
     "metadata": {},
     "output_type": "execute_result"
    }
   ],
   "source": [
    "enet.fit(np.arange(h)[:,np.newaxis], df_tmp_ycumsum)"
   ]
  },
  {
   "cell_type": "code",
   "execution_count": 41,
   "metadata": {
    "collapsed": false
   },
   "outputs": [],
   "source": [
    "y_pred = enet.predict(np.arange( h + 1 )[:,np.newaxis] )"
   ]
  },
  {
   "cell_type": "code",
   "execution_count": 42,
   "metadata": {
    "collapsed": false
   },
   "outputs": [
    {
     "name": "stdout",
     "output_type": "stream",
     "text": [
      "0.328617675485\n"
     ]
    }
   ],
   "source": [
    "print(y_pred[-1])"
   ]
  },
  {
   "cell_type": "code",
   "execution_count": 44,
   "metadata": {
    "collapsed": false
   },
   "outputs": [
    {
     "data": {
      "text/plain": [
       "739"
      ]
     },
     "execution_count": 44,
     "metadata": {},
     "output_type": "execute_result"
    }
   ],
   "source": [
    "len(y_pred[:-1])"
   ]
  },
  {
   "cell_type": "code",
   "execution_count": 47,
   "metadata": {
    "collapsed": false
   },
   "outputs": [
    {
     "data": {
      "text/plain": [
       "[<matplotlib.lines.Line2D at 0x7ff90ab48250>]"
      ]
     },
     "execution_count": 47,
     "metadata": {},
     "output_type": "execute_result"
    },
    {
     "data": {
      "image/png": "[encoded data removed]",
      "text/plain": [
       "<matplotlib.figure.Figure at 0x7ff90d3b9d90>"
      ]
     },
     "metadata": {},
     "output_type": "display_data"
    }
   ],
   "source": [
    "plt.plot(range(h),y_pred[:-1],\"x\")"
   ]
  },
  {
   "cell_type": "code",
   "execution_count": null,
   "metadata": {
    "collapsed": true
   },
   "outputs": [],
   "source": []
  }
 ],
 "metadata": {
  "kernelspec": {
   "display_name": "Python [Root]",
   "language": "python",
   "name": "Python [Root]"
  },
  "language_info": {
   "codemirror_mode": {
    "name": "ipython",
    "version": 2
   },
   "file_extension": ".py",
   "mimetype": "text/x-python",
   "name": "python",
   "nbconvert_exporter": "python",
   "pygments_lexer": "ipython2",
   "version": "2.7.12"
  }
 },
 "nbformat": 4,
 "nbformat_minor": 0
}
